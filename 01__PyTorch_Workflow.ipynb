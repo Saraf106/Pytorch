{
  "nbformat": 4,
  "nbformat_minor": 0,
  "metadata": {
    "colab": {
      "provenance": []
    },
    "kernelspec": {
      "name": "python3",
      "display_name": "Python 3"
    },
    "language_info": {
      "name": "python"
    }
  },
  "cells": [
    {
      "cell_type": "markdown",
      "source": [
        "# Let's explore an example of the pytorch end to end workflow."
      ],
      "metadata": {
        "id": "hWVg6KycoPAw"
      }
    },
    {
      "cell_type": "code",
      "source": [
        "what_we_are_covering = { 1: \"Preparation of data\",\n",
        "                        2: \"build model\" ,\n",
        "                         3: \"fitting the model to the data (training)\",\n",
        "                         4: \"making prediction and evaluating the model\",\n",
        "                         5: \"saving and loading the model\",\n",
        "                         6: \"puttung all together\"}"
      ],
      "metadata": {
        "id": "I0P6ZeXuoXSw"
      },
      "execution_count": null,
      "outputs": []
    },
    {
      "cell_type": "code",
      "execution_count": null,
      "metadata": {
        "colab": {
          "base_uri": "https://localhost:8080/",
          "height": 36
        },
        "id": "2kHnd4xUaktC",
        "outputId": "3b8596df-d638-4df4-84d9-303e86b4a15d"
      },
      "outputs": [
        {
          "output_type": "execute_result",
          "data": {
            "text/plain": [
              "'2.2.1+cu121'"
            ],
            "application/vnd.google.colaboratory.intrinsic+json": {
              "type": "string"
            }
          },
          "metadata": {},
          "execution_count": 51
        }
      ],
      "source": [
        "import torch\n",
        "from torch import nn #contains all of pytorch's building blocks for NN\n",
        "import matplotlib.pyplot as plt\n",
        "\n",
        "#check pytorch version\n",
        "torch.__version__"
      ]
    },
    {
      "cell_type": "markdown",
      "source": [
        "1. Preparing data and loading it\n",
        "\n",
        "Data can be almost everything in machine learning.\n",
        "\n",
        "* excel speadsheet\n",
        "*images of any kind\n",
        "*videos\n",
        "*audio\n",
        "*DNA\n",
        "*text\n",
        "\n",
        "Machine learning is a game of two parts:\n",
        "1. get data into a numerical representation\n",
        "2. build a model to learn patterns in that numerical representation\n",
        "\n",
        "To showcase this, let's create some known data using linear regression formula.\n",
        "We use a linear regression formula to make a straight line with known parameters. Which is y = ax + b."
      ],
      "metadata": {
        "id": "Zh9XEeSVqG_G"
      }
    },
    {
      "cell_type": "code",
      "source": [
        "# create known parameters\n",
        "weight = 0.7   #it's b\n",
        "bias = 0.3     # it's a"
      ],
      "metadata": {
        "id": "6jh2qJXJnjEE"
      },
      "execution_count": null,
      "outputs": []
    },
    {
      "cell_type": "code",
      "source": [
        "# we want to build a model that is able to estimate this number weight and bias\n",
        "start = 0\n",
        "end = 1\n",
        "step = 0.02\n",
        "X = torch.arange(start, end, step).unsqueeze(dim=1)\n",
        "y= weight * X + bias"
      ],
      "metadata": {
        "id": "36kSnyvSnjBD"
      },
      "execution_count": null,
      "outputs": []
    },
    {
      "cell_type": "code",
      "source": [
        "X[:10], y[:10]"
      ],
      "metadata": {
        "colab": {
          "base_uri": "https://localhost:8080/"
        },
        "id": "3_wxshWWni-A",
        "outputId": "28b50137-bd1e-4b28-d991-307b999819e2"
      },
      "execution_count": null,
      "outputs": [
        {
          "output_type": "execute_result",
          "data": {
            "text/plain": [
              "(tensor([[0.0000],\n",
              "         [0.0200],\n",
              "         [0.0400],\n",
              "         [0.0600],\n",
              "         [0.0800],\n",
              "         [0.1000],\n",
              "         [0.1200],\n",
              "         [0.1400],\n",
              "         [0.1600],\n",
              "         [0.1800]]),\n",
              " tensor([[0.3000],\n",
              "         [0.3140],\n",
              "         [0.3280],\n",
              "         [0.3420],\n",
              "         [0.3560],\n",
              "         [0.3700],\n",
              "         [0.3840],\n",
              "         [0.3980],\n",
              "         [0.4120],\n",
              "         [0.4260]]))"
            ]
          },
          "metadata": {},
          "execution_count": 54
        }
      ]
    },
    {
      "cell_type": "code",
      "source": [
        "len(X), len(y)"
      ],
      "metadata": {
        "colab": {
          "base_uri": "https://localhost:8080/"
        },
        "id": "fFxCiGyYni6t",
        "outputId": "f41eb854-92f0-4bc1-ef48-4f355ebc035f"
      },
      "execution_count": null,
      "outputs": [
        {
          "output_type": "execute_result",
          "data": {
            "text/plain": [
              "(50, 50)"
            ]
          },
          "metadata": {},
          "execution_count": 55
        }
      ]
    },
    {
      "cell_type": "markdown",
      "source": [
        "Splitting data into training and test sets"
      ],
      "metadata": {
        "id": "Y6k0Ua7Isr54"
      }
    },
    {
      "cell_type": "code",
      "source": [
        "#create a train/test split\n",
        "train_split = int(0.8*len(X))\n",
        "X_train, y_train = X[:train_split], y[:train_split]\n",
        "X_test, y_test = X[train_split:], y[train_split:]\n",
        "\n",
        "len(X_train), len(y_train), len(X_test), len(y_test)"
      ],
      "metadata": {
        "colab": {
          "base_uri": "https://localhost:8080/"
        },
        "id": "CJFXa5y-ni3T",
        "outputId": "613a2028-9952-43b2-ba1a-cc798c4cea44"
      },
      "execution_count": null,
      "outputs": [
        {
          "output_type": "execute_result",
          "data": {
            "text/plain": [
              "(40, 40, 10, 10)"
            ]
          },
          "metadata": {},
          "execution_count": 56
        }
      ]
    },
    {
      "cell_type": "markdown",
      "source": [
        "Let's visualize better the data"
      ],
      "metadata": {
        "id": "PF8S4-gEu9Xy"
      }
    },
    {
      "cell_type": "code",
      "source": [
        "def plot_predictions(train_data = X_train,\n",
        "                     train_labels = y_train,\n",
        "                     test_data = X_test,\n",
        "                     test_labels = y_test,\n",
        "                     predictions = None):\n",
        "  \"\"\"\n",
        "  Plots training data, test data and compares predictions.\n",
        "\n",
        "  \"\"\"\n",
        "  plt.figure(figsize=(10,7))\n",
        "\n",
        "  # plot training data in blue\n",
        "  plt.scatter(train_data,train_labels, c=\"b\", s=4, label=\"Training data\")\n",
        "\n",
        "  #plot test data in green\n",
        "  plt.scatter(test_data,test_labels, c=\"g\", s=4, label=\"Testing data\")\n",
        "\n",
        "  #are there predictions?\n",
        "  if predictions is not None:\n",
        "    #plot the prediction if they exist\n",
        "    plt.scatter(test_data, predictions)  #we compare our predictions compared to the actual data\n",
        "\n",
        "  #show legend\n",
        "  plt.legend(prop={\"size\":14});"
      ],
      "metadata": {
        "id": "KMpVG6g3ni0p"
      },
      "execution_count": null,
      "outputs": []
    },
    {
      "cell_type": "code",
      "source": [
        "plot_predictions()"
      ],
      "metadata": {
        "colab": {
          "base_uri": "https://localhost:8080/",
          "height": 535
        },
        "id": "WlR3XsWzniwY",
        "outputId": "98bca1c8-8210-4a59-cf8f-2160cdd192d7"
      },
      "execution_count": null,
      "outputs": [
        {
          "output_type": "display_data",
          "data": {
            "text/plain": [
              "<Figure size 1000x700 with 1 Axes>"
            ],
            "image/png": "[encoded data removed]"
          },
          "metadata": {}
        }
      ]
    },
    {
      "cell_type": "code",
      "source": [
        "# what we want to do is build a model that can recognize the pattern in the blue dot so that when given the green dot it can give us the correct y"
      ],
      "metadata": {
        "id": "WNYGsJcGnitF"
      },
      "execution_count": null,
      "outputs": []
    },
    {
      "cell_type": "markdown",
      "source": [
        "2.\n",
        "\n",
        "```\n",
        "# Questo è formattato come codice\n",
        "```\n",
        "\n",
        "Creating the model\n",
        "\n",
        "1. the model starts with random values (weight and bias)\n",
        "2. looks at training data and adjust the random values to better represent (or get closer) to the ideal values (the weight and bias we used to create the data)\n",
        "\n",
        "It does that through two main algorithms:\n",
        "* GD\n",
        "* Back propagation"
      ],
      "metadata": {
        "id": "W1Jmio3NxU0H"
      }
    },
    {
      "cell_type": "code",
      "source": [
        " # we are going to create a linear regression model class\n",
        "class LinearRegressionModel(nn.Module): #<- almost everything inherits from nn.Module\n",
        "  def __init__(self):\n",
        "      super().__init__()\n",
        "      #now we want random numbers, update them to represent the pattern of the graph\n",
        "      self.weights = nn.Parameter(torch.rand(1,\n",
        "                                             requires_grad=True,\n",
        "                                             dtype=torch.float)) #we have the requires gradient with true by default\n",
        "      self.bias = nn.Parameter(torch.randn(1,\n",
        "                                          requires_grad=True,\n",
        "                                          dtype=torch.float))\n",
        "\n",
        "      #forward method to define the computation in the model\n",
        "      #this function will try to make the random numbers close to the known ones through gradient descent\n",
        "      #defines the operation that the model has to perform, in this case it's the linear regression formula\n",
        "  def forward(self, x:torch.Tensor) -> torch.Tensor: # <- x is the input data\n",
        "      return self.weights * x +self.bias #this is the linear regression formula"
      ],
      "metadata": {
        "id": "brYDCDiEniqO"
      },
      "execution_count": null,
      "outputs": []
    },
    {
      "cell_type": "markdown",
      "source": [
        "### Pytorch model building essentials\n",
        "\n",
        "* torch.nn - contains all the building blocks for ocmputational graphs (like a neural network)\n",
        "* torch.nn.Parameters - what parameters our model try and learn, often a pytorch layer from torch.nn will set these for us\n",
        "* torch.nn.Module - the base class for all the NN modules, if you subclass it, you should overwrite forward()\n",
        "*torch.optim - this is where the optimizers in pytorch lives, will help with gradient descent\n",
        "*def forward() - all nn.Module subclasses require you to overwrite forward() this method defines what happens in the forward computation"
      ],
      "metadata": {
        "id": "y86nOtbd0GMK"
      }
    },
    {
      "cell_type": "code",
      "source": [
        "#Check the content of our pytorch model\n",
        "#we have created a model, let's see what is inside\n",
        "#we can check our model parameters or what's inside our model using .parameters()"
      ],
      "metadata": {
        "id": "Hm0KDE650BWi"
      },
      "execution_count": null,
      "outputs": []
    },
    {
      "cell_type": "code",
      "source": [
        "#Create a random seed, so that the random vallues will be the same\n",
        "torch.manual_seed(42)\n",
        "\n",
        "#create an instance of the model (this is a subclass of nn.Module)\n",
        "\n",
        "model_0 = LinearRegressionModel()\n",
        "list(model_0.parameters())"
      ],
      "metadata": {
        "colab": {
          "base_uri": "https://localhost:8080/"
        },
        "id": "hDL6yrBWnifd",
        "outputId": "bdce3d83-6046-4b3f-96ee-c5cf12c3c54b"
      },
      "execution_count": null,
      "outputs": [
        {
          "output_type": "execute_result",
          "data": {
            "text/plain": [
              "[Parameter containing:\n",
              " tensor([0.8823], requires_grad=True),\n",
              " Parameter containing:\n",
              " tensor([-0.6382], requires_grad=True)]"
            ]
          },
          "metadata": {},
          "execution_count": 62
        }
      ]
    },
    {
      "cell_type": "code",
      "source": [
        "#list named parameters\n",
        "model_0.state_dict()"
      ],
      "metadata": {
        "colab": {
          "base_uri": "https://localhost:8080/"
        },
        "id": "g0GxLMJRqq2n",
        "outputId": "341b09c0-072d-490e-d051-ebc0af7ef2f0"
      },
      "execution_count": null,
      "outputs": [
        {
          "output_type": "execute_result",
          "data": {
            "text/plain": [
              "OrderedDict([('weights', tensor([0.8823])), ('bias', tensor([-0.6382]))])"
            ]
          },
          "metadata": {},
          "execution_count": 63
        }
      ]
    },
    {
      "cell_type": "code",
      "source": [
        "#we want to get the values close to this ones\n",
        "#notice in any cases you don't know the values you want\n",
        "weight, bias"
      ],
      "metadata": {
        "colab": {
          "base_uri": "https://localhost:8080/"
        },
        "id": "Rba-yR-53i2F",
        "outputId": "163c2044-f191-4030-8e7d-e6405ce49102"
      },
      "execution_count": null,
      "outputs": [
        {
          "output_type": "execute_result",
          "data": {
            "text/plain": [
              "(0.7, 0.3)"
            ]
          },
          "metadata": {},
          "execution_count": 64
        }
      ]
    },
    {
      "cell_type": "markdown",
      "source": [
        "###Making prediction using torch.inference_mode()\n",
        "\n",
        "To check our model's predictive power, let's see how well it predicts y_test based on x_test.\n",
        "\n",
        "When we pass data through our model it's going to run it trough the forward module\n",
        "\n"
      ],
      "metadata": {
        "id": "AVcU2RCD4tFc"
      }
    },
    {
      "cell_type": "code",
      "source": [
        "#make prediction with model\n",
        "\n",
        "with torch.inference_mode():  #use it to have faster prediction, it keeps less data, another way is to use torch.n_grad()\n",
        "  y_preds = model_0(X_test)\n",
        "\n",
        "y_preds"
      ],
      "metadata": {
        "colab": {
          "base_uri": "https://localhost:8080/"
        },
        "id": "UoV_zcLo3iu7",
        "outputId": "c98db786-4724-4ba0-a03a-cdf5d3121ed3"
      },
      "execution_count": null,
      "outputs": [
        {
          "output_type": "execute_result",
          "data": {
            "text/plain": [
              "tensor([[0.0677],\n",
              "        [0.0853],\n",
              "        [0.1030],\n",
              "        [0.1206],\n",
              "        [0.1382],\n",
              "        [0.1559],\n",
              "        [0.1735],\n",
              "        [0.1912],\n",
              "        [0.2088],\n",
              "        [0.2265]])"
            ]
          },
          "metadata": {},
          "execution_count": 65
        }
      ]
    },
    {
      "cell_type": "code",
      "source": [
        "y_test"
      ],
      "metadata": {
        "colab": {
          "base_uri": "https://localhost:8080/"
        },
        "id": "HDjnYsqd3ilO",
        "outputId": "216c4985-0b68-4a16-cfdc-1db3078d9a1d"
      },
      "execution_count": null,
      "outputs": [
        {
          "output_type": "execute_result",
          "data": {
            "text/plain": [
              "tensor([[0.8600],\n",
              "        [0.8740],\n",
              "        [0.8880],\n",
              "        [0.9020],\n",
              "        [0.9160],\n",
              "        [0.9300],\n",
              "        [0.9440],\n",
              "        [0.9580],\n",
              "        [0.9720],\n",
              "        [0.9860]])"
            ]
          },
          "metadata": {},
          "execution_count": 66
        }
      ]
    },
    {
      "cell_type": "code",
      "source": [
        "plot_predictions(predictions=y_preds)"
      ],
      "metadata": {
        "colab": {
          "base_uri": "https://localhost:8080/",
          "height": 535
        },
        "id": "6RhYBYmf3ibC",
        "outputId": "88b12be2-2f4c-4ff4-b635-16fc0ae762d2"
      },
      "execution_count": null,
      "outputs": [
        {
          "output_type": "display_data",
          "data": {
            "text/plain": [
              "<Figure size 1000x700 with 1 Axes>"
            ],
            "image/png": "[encoded data removed]"
          },
          "metadata": {}
        }
      ]
    },
    {
      "cell_type": "code",
      "source": [
        "#We see that our prediction is extrimely far from the optimal prediction."
      ],
      "metadata": {
        "id": "TYglrxXV65xb"
      },
      "execution_count": null,
      "outputs": []
    },
    {
      "cell_type": "code",
      "source": [],
      "metadata": {
        "id": "Zi1vMU_m65rV"
      },
      "execution_count": null,
      "outputs": []
    },
    {
      "cell_type": "code",
      "source": [],
      "metadata": {
        "id": "qy9OJZ8X65i3"
      },
      "execution_count": null,
      "outputs": []
    },
    {
      "cell_type": "code",
      "source": [],
      "metadata": {
        "id": "1BtN8_ObbV_i"
      },
      "execution_count": null,
      "outputs": []
    },
    {
      "cell_type": "code",
      "source": [
        "nums = [1,2,3]\n",
        "it = iter(nums) #convert it into an iterator\n",
        "print(it)"
      ],
      "metadata": {
        "id": "iVgZfdz565TC",
        "colab": {
          "base_uri": "https://localhost:8080/"
        },
        "outputId": "566d7a0f-b2c1-4861-9084-7b60f88139a8"
      },
      "execution_count": null,
      "outputs": [
        {
          "output_type": "stream",
          "name": "stdout",
          "text": [
            "<list_iterator object at 0x7bf6f7824100>\n"
          ]
        }
      ]
    },
    {
      "cell_type": "code",
      "source": [],
      "metadata": {
        "id": "0dGq64Wh645-"
      },
      "execution_count": null,
      "outputs": []
    },
    {
      "cell_type": "markdown",
      "source": [
        "## 2.Train model\n",
        "The whole idea of training is for the model to move from some *unknown parameters (these may be random) to some known parameters. Or in other words from a poor representationof the data to a better representati on of the data.\n",
        "\n",
        "To understand how poorly the data is represented we use the so called *LOSS FUNCTION*.\n",
        "The loss function may also be called cost function or criterion in different areas. For our case we use loss function.\n",
        "\n",
        "**Loss function**: a function to measure how wrong our  model predictions are to the ideal output. Lower is better.\n",
        "\n",
        "Things we need to train:\n",
        "1. Loss function\n",
        "2. Optimizer -> takes into account the loss of a model and adjust the model's parameters, ex. weight and bias, to improve the loss function.\n",
        "And specifically for pytorch we need:\n",
        "*a training loop\n",
        "*a testing loop"
      ],
      "metadata": {
        "id": "MmJKXwnNOtFI"
      }
    },
    {
      "cell_type": "code",
      "source": [
        "#Setup a loss function\n",
        "loss_fn = nn.L1Loss()\n",
        "loss_fn"
      ],
      "metadata": {
        "colab": {
          "base_uri": "https://localhost:8080/"
        },
        "id": "51hB4OrdOHmn",
        "outputId": "fb05b1e0-d230-4a60-ea28-391236314326"
      },
      "execution_count": null,
      "outputs": [
        {
          "output_type": "execute_result",
          "data": {
            "text/plain": [
              "L1Loss()"
            ]
          },
          "metadata": {},
          "execution_count": 70
        }
      ]
    },
    {
      "cell_type": "code",
      "source": [
        "#set up a optimizer\n",
        "#the smaller the lr the small the change in the parameter\n",
        "optimizer = torch.optim.SGD(params=model_0.parameters(), lr=0.01) #lr=learning rate, most important hyperparameter, we can set it"
      ],
      "metadata": {
        "id": "8c0-3IXsOHji"
      },
      "execution_count": null,
      "outputs": []
    },
    {
      "cell_type": "markdown",
      "source": [
        "# Buildin a training and testing loop in Pytorch\n",
        "\n",
        "We need a couple of things for the training loop:\n",
        "0. loop through the data\n",
        "1. forward pass (this involves data moving trough our model's forward() function) to make prediciton on data - also called forward propagation\n",
        "2. calculate loss (compare forward pass predictions to ground truth labels)\n",
        "3. optimize zero grad\n",
        "4. loss backward - move backward through the network to compute the gradient of each of the parameters of our mofel with respect to the loss\n",
        "5. optimizer step - adjust the parameters to reduce the loss"
      ],
      "metadata": {
        "id": "SeVz_wk8Tntl"
      }
    },
    {
      "cell_type": "code",
      "source": [
        "#Building a training loop\n",
        "\n",
        "#an epoch is one loop through the data\n",
        "epochs = 200\n",
        "\n",
        "#tracking different values\n",
        "epoch_count=[]\n",
        "loss_values= []\n",
        "test_loss_values = []\n",
        "\n",
        "###TRAINING - is where the model learns patterns on the training data\n",
        "#0. loop throught the data\n",
        "for epoch in range(epochs): #we pass the data through the model for a number of epochs (it's an hyperparameter because we decide it)\n",
        "  #set the model to training mode\n",
        "  model_0.train() #in pytorch sets all parameters that require gradients to require gradient\n",
        "\n",
        "  #1. forward pass\n",
        "  y_pred = model_0(X_train)\n",
        "\n",
        "  #2.Calculate the loss\n",
        "  loss = loss_fn (y_pred, y_train) #how far our prediction is from the actual labels\n",
        "  #print(f\"The loss is: {loss}\")\n",
        "  # 3.Optimizer zero grad\n",
        "  optimizer.zero_grad()\n",
        "\n",
        "  #4. Perform backpropagation on the loss with respect to the parameters of the model\n",
        "  loss.backward()\n",
        "\n",
        "  #5. Step the optimizer (performs gradient descent)\n",
        "  optimizer.step()  #makes calculation on  how the parameters should be changed\n",
        "  #by default the optimizer changes will accumulate through the loop so we have to zero them above in step 3\n",
        "\n",
        "  ###TESTING - where we evaluate the patterns/parameters that the model has learned on unseen data\n",
        "  model_0.eval() #turns off  settings not needed for evaluation\n",
        "  with torch.inference_mode(): #turns off gradient tracking and other things\n",
        "   #1.Do forward pass\n",
        "   test_pred = model_0(X_test)\n",
        "\n",
        "   #2. Calulate the loss\n",
        "   test_loss = loss_fn(test_pred, y_test)\n",
        "\n",
        "   if epoch %10 == 0:\n",
        "    epoch_count.append(epoch)\n",
        "    loss_values.append(loss)\n",
        "    test_loss_values.append(test_loss)\n",
        "    print(f\"Epoch: {epoch} | Test loss is: {test_loss}\")\n",
        "\n",
        "   #3. Print out model state_dict() to see what's happening\n",
        "   print(model_0.state_dict())\n",
        "\n",
        "\n",
        "\n",
        "\n",
        "\n",
        "\n",
        "\n",
        "\n",
        "\n"
      ],
      "metadata": {
        "colab": {
          "base_uri": "https://localhost:8080/"
        },
        "id": "GbdErfKvOHgq",
        "outputId": "83bdf49c-c54b-4b1b-81c5-9cee1805ece3"
      },
      "execution_count": null,
      "outputs": [
        {
          "output_type": "stream",
          "name": "stdout",
          "text": [
            "Epoch: 0 | Test loss is: 0.7624635696411133\n",
            "OrderedDict([('weights', tensor([0.8862])), ('bias', tensor([-0.6282]))])\n",
            "OrderedDict([('weights', tensor([0.8901])), ('bias', tensor([-0.6182]))])\n",
            "OrderedDict([('weights', tensor([0.8940])), ('bias', tensor([-0.6082]))])\n",
            "OrderedDict([('weights', tensor([0.8979])), ('bias', tensor([-0.5982]))])\n",
            "OrderedDict([('weights', tensor([0.9018])), ('bias', tensor([-0.5882]))])\n",
            "OrderedDict([('weights', tensor([0.9057])), ('bias', tensor([-0.5782]))])\n",
            "OrderedDict([('weights', tensor([0.9096])), ('bias', tensor([-0.5682]))])\n",
            "OrderedDict([('weights', tensor([0.9135])), ('bias', tensor([-0.5582]))])\n",
            "OrderedDict([('weights', tensor([0.9174])), ('bias', tensor([-0.5482]))])\n",
            "OrderedDict([('weights', tensor([0.9213])), ('bias', tensor([-0.5382]))])\n",
            "Epoch: 10 | Test loss is: 0.6277537941932678\n",
            "OrderedDict([('weights', tensor([0.9252])), ('bias', tensor([-0.5282]))])\n",
            "OrderedDict([('weights', tensor([0.9291])), ('bias', tensor([-0.5182]))])\n",
            "OrderedDict([('weights', tensor([0.9330])), ('bias', tensor([-0.5082]))])\n",
            "OrderedDict([('weights', tensor([0.9369])), ('bias', tensor([-0.4982]))])\n",
            "OrderedDict([('weights', tensor([0.9408])), ('bias', tensor([-0.4882]))])\n",
            "OrderedDict([('weights', tensor([0.9447])), ('bias', tensor([-0.4782]))])\n",
            "OrderedDict([('weights', tensor([0.9486])), ('bias', tensor([-0.4682]))])\n",
            "OrderedDict([('weights', tensor([0.9525])), ('bias', tensor([-0.4582]))])\n",
            "OrderedDict([('weights', tensor([0.9564])), ('bias', tensor([-0.4482]))])\n",
            "OrderedDict([('weights', tensor([0.9603])), ('bias', tensor([-0.4382]))])\n",
            "Epoch: 20 | Test loss is: 0.4930438995361328\n",
            "OrderedDict([('weights', tensor([0.9642])), ('bias', tensor([-0.4282]))])\n",
            "OrderedDict([('weights', tensor([0.9681])), ('bias', tensor([-0.4182]))])\n",
            "OrderedDict([('weights', tensor([0.9720])), ('bias', tensor([-0.4082]))])\n",
            "OrderedDict([('weights', tensor([0.9759])), ('bias', tensor([-0.3982]))])\n",
            "OrderedDict([('weights', tensor([0.9798])), ('bias', tensor([-0.3882]))])\n",
            "OrderedDict([('weights', tensor([0.9837])), ('bias', tensor([-0.3782]))])\n",
            "OrderedDict([('weights', tensor([0.9876])), ('bias', tensor([-0.3682]))])\n",
            "OrderedDict([('weights', tensor([0.9915])), ('bias', tensor([-0.3582]))])\n",
            "OrderedDict([('weights', tensor([0.9954])), ('bias', tensor([-0.3482]))])\n",
            "OrderedDict([('weights', tensor([0.9993])), ('bias', tensor([-0.3382]))])\n",
            "Epoch: 30 | Test loss is: 0.3583340346813202\n",
            "OrderedDict([('weights', tensor([1.0032])), ('bias', tensor([-0.3282]))])\n",
            "OrderedDict([('weights', tensor([1.0071])), ('bias', tensor([-0.3182]))])\n",
            "OrderedDict([('weights', tensor([1.0110])), ('bias', tensor([-0.3082]))])\n",
            "OrderedDict([('weights', tensor([1.0149])), ('bias', tensor([-0.2982]))])\n",
            "OrderedDict([('weights', tensor([1.0188])), ('bias', tensor([-0.2882]))])\n",
            "OrderedDict([('weights', tensor([1.0227])), ('bias', tensor([-0.2782]))])\n",
            "OrderedDict([('weights', tensor([1.0266])), ('bias', tensor([-0.2682]))])\n",
            "OrderedDict([('weights', tensor([1.0305])), ('bias', tensor([-0.2582]))])\n",
            "OrderedDict([('weights', tensor([1.0344])), ('bias', tensor([-0.2482]))])\n",
            "OrderedDict([('weights', tensor([1.0383])), ('bias', tensor([-0.2382]))])\n",
            "Epoch: 40 | Test loss is: 0.2236236333847046\n",
            "OrderedDict([('weights', tensor([1.0422])), ('bias', tensor([-0.2282]))])\n",
            "OrderedDict([('weights', tensor([1.0461])), ('bias', tensor([-0.2182]))])\n",
            "OrderedDict([('weights', tensor([1.0500])), ('bias', tensor([-0.2082]))])\n",
            "OrderedDict([('weights', tensor([1.0539])), ('bias', tensor([-0.1982]))])\n",
            "OrderedDict([('weights', tensor([1.0578])), ('bias', tensor([-0.1882]))])\n",
            "OrderedDict([('weights', tensor([1.0617])), ('bias', tensor([-0.1782]))])\n",
            "OrderedDict([('weights', tensor([1.0656])), ('bias', tensor([-0.1682]))])\n",
            "OrderedDict([('weights', tensor([1.0695])), ('bias', tensor([-0.1582]))])\n",
            "OrderedDict([('weights', tensor([1.0734])), ('bias', tensor([-0.1482]))])\n",
            "OrderedDict([('weights', tensor([1.0773])), ('bias', tensor([-0.1382]))])\n",
            "Epoch: 50 | Test loss is: 0.08891315013170242\n",
            "OrderedDict([('weights', tensor([1.0812])), ('bias', tensor([-0.1282]))])\n",
            "OrderedDict([('weights', tensor([1.0851])), ('bias', tensor([-0.1182]))])\n",
            "OrderedDict([('weights', tensor([1.0890])), ('bias', tensor([-0.1082]))])\n",
            "OrderedDict([('weights', tensor([1.0929])), ('bias', tensor([-0.0982]))])\n",
            "OrderedDict([('weights', tensor([1.0968])), ('bias', tensor([-0.0882]))])\n",
            "OrderedDict([('weights', tensor([1.1007])), ('bias', tensor([-0.0782]))])\n",
            "OrderedDict([('weights', tensor([1.1046])), ('bias', tensor([-0.0682]))])\n",
            "OrderedDict([('weights', tensor([1.1085])), ('bias', tensor([-0.0582]))])\n",
            "OrderedDict([('weights', tensor([1.1124])), ('bias', tensor([-0.0482]))])\n",
            "OrderedDict([('weights', tensor([1.1163])), ('bias', tensor([-0.0382]))])\n",
            "Epoch: 60 | Test loss is: 0.04579734057188034\n",
            "OrderedDict([('weights', tensor([1.1202])), ('bias', tensor([-0.0282]))])\n",
            "OrderedDict([('weights', tensor([1.1241])), ('bias', tensor([-0.0182]))])\n",
            "OrderedDict([('weights', tensor([1.1272])), ('bias', tensor([-0.0092]))])\n",
            "OrderedDict([('weights', tensor([1.1300])), ('bias', tensor([-0.0007]))])\n",
            "OrderedDict([('weights', tensor([1.1320])), ('bias', tensor([0.0068]))])\n",
            "OrderedDict([('weights', tensor([1.1337])), ('bias', tensor([0.0138]))])\n",
            "OrderedDict([('weights', tensor([1.1351])), ('bias', tensor([0.0203]))])\n",
            "OrderedDict([('weights', tensor([1.1365])), ('bias', tensor([0.0268]))])\n",
            "OrderedDict([('weights', tensor([1.1375])), ('bias', tensor([0.0328]))])\n",
            "OrderedDict([('weights', tensor([1.1383])), ('bias', tensor([0.0383]))])\n",
            "Epoch: 70 | Test loss is: 0.13382463157176971\n",
            "OrderedDict([('weights', tensor([1.1387])), ('bias', tensor([0.0433]))])\n",
            "OrderedDict([('weights', tensor([1.1392])), ('bias', tensor([0.0483]))])\n",
            "OrderedDict([('weights', tensor([1.1394])), ('bias', tensor([0.0528]))])\n",
            "OrderedDict([('weights', tensor([1.1395])), ('bias', tensor([0.0573]))])\n",
            "OrderedDict([('weights', tensor([1.1394])), ('bias', tensor([0.0613]))])\n",
            "OrderedDict([('weights', tensor([1.1393])), ('bias', tensor([0.0653]))])\n",
            "OrderedDict([('weights', tensor([1.1389])), ('bias', tensor([0.0688]))])\n",
            "OrderedDict([('weights', tensor([1.1385])), ('bias', tensor([0.0723]))])\n",
            "OrderedDict([('weights', tensor([1.1378])), ('bias', tensor([0.0753]))])\n",
            "OrderedDict([('weights', tensor([1.1372])), ('bias', tensor([0.0783]))])\n",
            "Epoch: 80 | Test loss is: 0.16986632347106934\n",
            "OrderedDict([('weights', tensor([1.1365])), ('bias', tensor([0.0813]))])\n",
            "OrderedDict([('weights', tensor([1.1359])), ('bias', tensor([0.0843]))])\n",
            "OrderedDict([('weights', tensor([1.1350])), ('bias', tensor([0.0868]))])\n",
            "OrderedDict([('weights', tensor([1.1341])), ('bias', tensor([0.0893]))])\n",
            "OrderedDict([('weights', tensor([1.1332])), ('bias', tensor([0.0918]))])\n",
            "OrderedDict([('weights', tensor([1.1323])), ('bias', tensor([0.0943]))])\n",
            "OrderedDict([('weights', tensor([1.1312])), ('bias', tensor([0.0963]))])\n",
            "OrderedDict([('weights', tensor([1.1300])), ('bias', tensor([0.0983]))])\n",
            "OrderedDict([('weights', tensor([1.1289])), ('bias', tensor([0.1003]))])\n",
            "OrderedDict([('weights', tensor([1.1277])), ('bias', tensor([0.1023]))])\n",
            "Epoch: 90 | Test loss is: 0.18401066958904266\n",
            "OrderedDict([('weights', tensor([1.1266])), ('bias', tensor([0.1043]))])\n",
            "OrderedDict([('weights', tensor([1.1252])), ('bias', tensor([0.1058]))])\n",
            "OrderedDict([('weights', tensor([1.1239])), ('bias', tensor([0.1073]))])\n",
            "OrderedDict([('weights', tensor([1.1225])), ('bias', tensor([0.1088]))])\n",
            "OrderedDict([('weights', tensor([1.1211])), ('bias', tensor([0.1103]))])\n",
            "OrderedDict([('weights', tensor([1.1197])), ('bias', tensor([0.1118]))])\n",
            "OrderedDict([('weights', tensor([1.1184])), ('bias', tensor([0.1133]))])\n",
            "OrderedDict([('weights', tensor([1.1170])), ('bias', tensor([0.1148]))])\n",
            "OrderedDict([('weights', tensor([1.1156])), ('bias', tensor([0.1163]))])\n",
            "OrderedDict([('weights', tensor([1.1143])), ('bias', tensor([0.1178]))])\n",
            "Epoch: 100 | Test loss is: 0.18612226843833923\n",
            "OrderedDict([('weights', tensor([1.1127])), ('bias', tensor([0.1188]))])\n",
            "OrderedDict([('weights', tensor([1.1111])), ('bias', tensor([0.1198]))])\n",
            "OrderedDict([('weights', tensor([1.1095])), ('bias', tensor([0.1208]))])\n",
            "OrderedDict([('weights', tensor([1.1079])), ('bias', tensor([0.1218]))])\n",
            "OrderedDict([('weights', tensor([1.1063])), ('bias', tensor([0.1228]))])\n",
            "OrderedDict([('weights', tensor([1.1047])), ('bias', tensor([0.1238]))])\n",
            "OrderedDict([('weights', tensor([1.1031])), ('bias', tensor([0.1248]))])\n",
            "OrderedDict([('weights', tensor([1.1015])), ('bias', tensor([0.1258]))])\n",
            "OrderedDict([('weights', tensor([1.1000])), ('bias', tensor([0.1268]))])\n",
            "OrderedDict([('weights', tensor([1.0984])), ('bias', tensor([0.1278]))])\n",
            "Epoch: 110 | Test loss is: 0.18197114765644073\n",
            "OrderedDict([('weights', tensor([1.0968])), ('bias', tensor([0.1288]))])\n",
            "OrderedDict([('weights', tensor([1.0952])), ('bias', tensor([0.1298]))])\n",
            "OrderedDict([('weights', tensor([1.0936])), ('bias', tensor([0.1308]))])\n",
            "OrderedDict([('weights', tensor([1.0920])), ('bias', tensor([0.1318]))])\n",
            "OrderedDict([('weights', tensor([1.0904])), ('bias', tensor([0.1328]))])\n",
            "OrderedDict([('weights', tensor([1.0888])), ('bias', tensor([0.1338]))])\n",
            "OrderedDict([('weights', tensor([1.0872])), ('bias', tensor([0.1348]))])\n",
            "OrderedDict([('weights', tensor([1.0856])), ('bias', tensor([0.1358]))])\n",
            "OrderedDict([('weights', tensor([1.0841])), ('bias', tensor([0.1368]))])\n",
            "OrderedDict([('weights', tensor([1.0825])), ('bias', tensor([0.1378]))])\n",
            "Epoch: 120 | Test loss is: 0.177820086479187\n",
            "OrderedDict([('weights', tensor([1.0809])), ('bias', tensor([0.1388]))])\n",
            "OrderedDict([('weights', tensor([1.0793])), ('bias', tensor([0.1398]))])\n",
            "OrderedDict([('weights', tensor([1.0777])), ('bias', tensor([0.1408]))])\n",
            "OrderedDict([('weights', tensor([1.0761])), ('bias', tensor([0.1418]))])\n",
            "OrderedDict([('weights', tensor([1.0745])), ('bias', tensor([0.1428]))])\n",
            "OrderedDict([('weights', tensor([1.0727])), ('bias', tensor([0.1433]))])\n",
            "OrderedDict([('weights', tensor([1.0711])), ('bias', tensor([0.1443]))])\n",
            "OrderedDict([('weights', tensor([1.0693])), ('bias', tensor([0.1448]))])\n",
            "OrderedDict([('weights', tensor([1.0677])), ('bias', tensor([0.1458]))])\n",
            "OrderedDict([('weights', tensor([1.0659])), ('bias', tensor([0.1463]))])\n",
            "Epoch: 130 | Test loss is: 0.17092156410217285\n",
            "OrderedDict([('weights', tensor([1.0641])), ('bias', tensor([0.1468]))])\n",
            "OrderedDict([('weights', tensor([1.0625])), ('bias', tensor([0.1478]))])\n",
            "OrderedDict([('weights', tensor([1.0607])), ('bias', tensor([0.1483]))])\n",
            "OrderedDict([('weights', tensor([1.0592])), ('bias', tensor([0.1493]))])\n",
            "OrderedDict([('weights', tensor([1.0574])), ('bias', tensor([0.1498]))])\n",
            "OrderedDict([('weights', tensor([1.0558])), ('bias', tensor([0.1508]))])\n",
            "OrderedDict([('weights', tensor([1.0540])), ('bias', tensor([0.1513]))])\n",
            "OrderedDict([('weights', tensor([1.0522])), ('bias', tensor([0.1518]))])\n",
            "OrderedDict([('weights', tensor([1.0506])), ('bias', tensor([0.1528]))])\n",
            "OrderedDict([('weights', tensor([1.0488])), ('bias', tensor([0.1533]))])\n",
            "Epoch: 140 | Test loss is: 0.16333624720573425\n",
            "OrderedDict([('weights', tensor([1.0472])), ('bias', tensor([0.1543]))])\n",
            "OrderedDict([('weights', tensor([1.0454])), ('bias', tensor([0.1548]))])\n",
            "OrderedDict([('weights', tensor([1.0438])), ('bias', tensor([0.1558]))])\n",
            "OrderedDict([('weights', tensor([1.0420])), ('bias', tensor([0.1563]))])\n",
            "OrderedDict([('weights', tensor([1.0404])), ('bias', tensor([0.1573]))])\n",
            "OrderedDict([('weights', tensor([1.0386])), ('bias', tensor([0.1578]))])\n",
            "OrderedDict([('weights', tensor([1.0368])), ('bias', tensor([0.1583]))])\n",
            "OrderedDict([('weights', tensor([1.0352])), ('bias', tensor([0.1593]))])\n",
            "OrderedDict([('weights', tensor([1.0334])), ('bias', tensor([0.1598]))])\n",
            "OrderedDict([('weights', tensor([1.0318])), ('bias', tensor([0.1608]))])\n",
            "Epoch: 150 | Test loss is: 0.15506410598754883\n",
            "OrderedDict([('weights', tensor([1.0300])), ('bias', tensor([0.1613]))])\n",
            "OrderedDict([('weights', tensor([1.0284])), ('bias', tensor([0.1623]))])\n",
            "OrderedDict([('weights', tensor([1.0266])), ('bias', tensor([0.1628]))])\n",
            "OrderedDict([('weights', tensor([1.0248])), ('bias', tensor([0.1633]))])\n",
            "OrderedDict([('weights', tensor([1.0232])), ('bias', tensor([0.1643]))])\n",
            "OrderedDict([('weights', tensor([1.0214])), ('bias', tensor([0.1648]))])\n",
            "OrderedDict([('weights', tensor([1.0199])), ('bias', tensor([0.1658]))])\n",
            "OrderedDict([('weights', tensor([1.0181])), ('bias', tensor([0.1663]))])\n",
            "OrderedDict([('weights', tensor([1.0165])), ('bias', tensor([0.1673]))])\n",
            "OrderedDict([('weights', tensor([1.0147])), ('bias', tensor([0.1678]))])\n",
            "Epoch: 160 | Test loss is: 0.14679193496704102\n",
            "OrderedDict([('weights', tensor([1.0129])), ('bias', tensor([0.1683]))])\n",
            "OrderedDict([('weights', tensor([1.0113])), ('bias', tensor([0.1693]))])\n",
            "OrderedDict([('weights', tensor([1.0095])), ('bias', tensor([0.1698]))])\n",
            "OrderedDict([('weights', tensor([1.0079])), ('bias', tensor([0.1708]))])\n",
            "OrderedDict([('weights', tensor([1.0061])), ('bias', tensor([0.1713]))])\n",
            "OrderedDict([('weights', tensor([1.0045])), ('bias', tensor([0.1723]))])\n",
            "OrderedDict([('weights', tensor([1.0027])), ('bias', tensor([0.1728]))])\n",
            "OrderedDict([('weights', tensor([1.0011])), ('bias', tensor([0.1738]))])\n",
            "OrderedDict([('weights', tensor([0.9993])), ('bias', tensor([0.1743]))])\n",
            "OrderedDict([('weights', tensor([0.9975])), ('bias', tensor([0.1748]))])\n",
            "Epoch: 170 | Test loss is: 0.13920652866363525\n",
            "OrderedDict([('weights', tensor([0.9959])), ('bias', tensor([0.1758]))])\n",
            "OrderedDict([('weights', tensor([0.9941])), ('bias', tensor([0.1763]))])\n",
            "OrderedDict([('weights', tensor([0.9925])), ('bias', tensor([0.1773]))])\n",
            "OrderedDict([('weights', tensor([0.9907])), ('bias', tensor([0.1778]))])\n",
            "OrderedDict([('weights', tensor([0.9891])), ('bias', tensor([0.1788]))])\n",
            "OrderedDict([('weights', tensor([0.9873])), ('bias', tensor([0.1793]))])\n",
            "OrderedDict([('weights', tensor([0.9855])), ('bias', tensor([0.1798]))])\n",
            "OrderedDict([('weights', tensor([0.9839])), ('bias', tensor([0.1808]))])\n",
            "OrderedDict([('weights', tensor([0.9821])), ('bias', tensor([0.1813]))])\n",
            "OrderedDict([('weights', tensor([0.9806])), ('bias', tensor([0.1823]))])\n",
            "Epoch: 180 | Test loss is: 0.13093404471874237\n",
            "OrderedDict([('weights', tensor([0.9788])), ('bias', tensor([0.1828]))])\n",
            "OrderedDict([('weights', tensor([0.9772])), ('bias', tensor([0.1838]))])\n",
            "OrderedDict([('weights', tensor([0.9754])), ('bias', tensor([0.1843]))])\n",
            "OrderedDict([('weights', tensor([0.9738])), ('bias', tensor([0.1853]))])\n",
            "OrderedDict([('weights', tensor([0.9720])), ('bias', tensor([0.1858]))])\n",
            "OrderedDict([('weights', tensor([0.9702])), ('bias', tensor([0.1863]))])\n",
            "OrderedDict([('weights', tensor([0.9686])), ('bias', tensor([0.1873]))])\n",
            "OrderedDict([('weights', tensor([0.9668])), ('bias', tensor([0.1878]))])\n",
            "OrderedDict([('weights', tensor([0.9652])), ('bias', tensor([0.1888]))])\n",
            "OrderedDict([('weights', tensor([0.9634])), ('bias', tensor([0.1893]))])\n",
            "Epoch: 190 | Test loss is: 0.12334845215082169\n",
            "OrderedDict([('weights', tensor([0.9618])), ('bias', tensor([0.1903]))])\n",
            "OrderedDict([('weights', tensor([0.9600])), ('bias', tensor([0.1908]))])\n",
            "OrderedDict([('weights', tensor([0.9582])), ('bias', tensor([0.1913]))])\n",
            "OrderedDict([('weights', tensor([0.9566])), ('bias', tensor([0.1923]))])\n",
            "OrderedDict([('weights', tensor([0.9548])), ('bias', tensor([0.1928]))])\n",
            "OrderedDict([('weights', tensor([0.9532])), ('bias', tensor([0.1938]))])\n",
            "OrderedDict([('weights', tensor([0.9514])), ('bias', tensor([0.1943]))])\n",
            "OrderedDict([('weights', tensor([0.9498])), ('bias', tensor([0.1953]))])\n",
            "OrderedDict([('weights', tensor([0.9480])), ('bias', tensor([0.1958]))])\n",
            "OrderedDict([('weights', tensor([0.9462])), ('bias', tensor([0.1963]))])\n"
          ]
        }
      ]
    },
    {
      "cell_type": "code",
      "source": [
        "model_0.state_dict()"
      ],
      "metadata": {
        "colab": {
          "base_uri": "https://localhost:8080/"
        },
        "id": "BuhcychVOHdo",
        "outputId": "a202123d-78ac-46ea-f4a5-dd6157b455fa"
      },
      "execution_count": null,
      "outputs": [
        {
          "output_type": "execute_result",
          "data": {
            "text/plain": [
              "OrderedDict([('weights', tensor([0.9462])), ('bias', tensor([0.1963]))])"
            ]
          },
          "metadata": {},
          "execution_count": 73
        }
      ]
    },
    {
      "cell_type": "code",
      "source": [
        "weight, bias"
      ],
      "metadata": {
        "colab": {
          "base_uri": "https://localhost:8080/"
        },
        "id": "CPHtc1ElOHU8",
        "outputId": "bbd437da-2dae-4bd1-8f7e-bd102e6e718d"
      },
      "execution_count": null,
      "outputs": [
        {
          "output_type": "execute_result",
          "data": {
            "text/plain": [
              "(0.7, 0.3)"
            ]
          },
          "metadata": {},
          "execution_count": 74
        }
      ]
    },
    {
      "cell_type": "code",
      "source": [
        "#Let's see how close we are now:\n",
        "with torch.inference_mode():\n",
        "  y_pred_new = model_0(X_test)\n",
        "plot_predictions(predictions=y_pred_new)\n",
        "#this is the output after training for a lot of epochs"
      ],
      "metadata": {
        "colab": {
          "base_uri": "https://localhost:8080/",
          "height": 535
        },
        "id": "T0mo3g4BOHRc",
        "outputId": "1616c353-a4bc-43fc-c0a5-1f7242aac9ec"
      },
      "execution_count": null,
      "outputs": [
        {
          "output_type": "display_data",
          "data": {
            "text/plain": [
              "<Figure size 1000x700 with 1 Axes>"
            ],
            "image/png": "[encoded data removed]"
          },
          "metadata": {}
        }
      ]
    },
    {
      "cell_type": "code",
      "source": [
        "import numpy as np\n",
        "plt.plot(epoch_count, np.array(torch.tensor(loss_values).numpy()), label = \"Train_loss\")\n",
        "plt.plot(epoch_count,test_loss_values, label= \"Test loss\")\n",
        "plt.title(\"Training and test loss curves\")\n",
        "plt.ylabel(\"Loss\")\n",
        "plt.xlabel(\"epochs\")\n",
        "plt.legend();"
      ],
      "metadata": {
        "colab": {
          "base_uri": "https://localhost:8080/",
          "height": 472
        },
        "id": "CN_7IVr2OHNP",
        "outputId": "91a25858-6a40-4bad-f40a-8a42cbad7b2b"
      },
      "execution_count": null,
      "outputs": [
        {
          "output_type": "display_data",
          "data": {
            "text/plain": [
              "<Figure size 640x480 with 1 Axes>"
            ],
            "image/png": "[encoded data removed]"
          },
          "metadata": {}
        }
      ]
    },
    {
      "cell_type": "code",
      "source": [],
      "metadata": {
        "id": "aP27K5DSRubs"
      },
      "execution_count": null,
      "outputs": []
    },
    {
      "cell_type": "markdown",
      "source": [
        "# Saving a model in pytorch\n",
        "there are 3 main methods for saving and loading m odels in pytorch.\n",
        "1. torch.save() - allows to save a pytorch object in pyton pickle format\n",
        "2. torch.load() - allow to load a saved pytorch objject\n",
        "3. torch.nn.Module.load_state_dict() - allows to load a model's saved state dictionary"
      ],
      "metadata": {
        "id": "4fVV07HuSNKs"
      }
    },
    {
      "cell_type": "code",
      "source": [
        "#saving our pytorch model\n",
        "from pathlib import Path\n",
        "\n",
        "#1. create a  model directory\n",
        "MODEL_PATH = Path(\"Models\")\n",
        "MODEL_PATH.mkdir(parents=True, exist_ok=True)\n",
        "\n",
        "#2. create a model save path\n",
        "MODEL_NAME = \"01_pytorch_workflow_model_0.pth\"\n",
        "MODEL_SAVE_PATH = MODEL_PATH / MODEL_NAME\n",
        "\n",
        "MODEL_SAVE_PATH\n",
        "\n",
        "#we just have the path where we want our model to be"
      ],
      "metadata": {
        "colab": {
          "base_uri": "https://localhost:8080/"
        },
        "id": "Vj6nN8ZGRuPJ",
        "outputId": "9663793e-de33-4a2f-c591-9d4d7a209825"
      },
      "execution_count": null,
      "outputs": [
        {
          "output_type": "execute_result",
          "data": {
            "text/plain": [
              "PosixPath('Models/01_pytorch_workflow_model_0.pth')"
            ]
          },
          "metadata": {},
          "execution_count": 77
        }
      ]
    },
    {
      "cell_type": "code",
      "source": [
        "#3.save the model dict\n",
        "print(f\"Saving our model to: {MODEL_SAVE_PATH}\")\n",
        "torch.save(obj= model_0.state_dict(), f= MODEL_SAVE_PATH)"
      ],
      "metadata": {
        "colab": {
          "base_uri": "https://localhost:8080/"
        },
        "id": "sC3KDj7ERuAP",
        "outputId": "01664963-03b1-4af9-db66-d0fc7dac6c52"
      },
      "execution_count": null,
      "outputs": [
        {
          "output_type": "stream",
          "name": "stdout",
          "text": [
            "Saving our model to: Models/01_pytorch_workflow_model_0.pth\n"
          ]
        }
      ]
    },
    {
      "cell_type": "code",
      "source": [
        "ls -l Models/"
      ],
      "metadata": {
        "colab": {
          "base_uri": "https://localhost:8080/"
        },
        "id": "Bd_YZTGFRtvt",
        "outputId": "323fd3b4-001d-4ae1-ac15-0482f2bd4893"
      },
      "execution_count": null,
      "outputs": [
        {
          "output_type": "stream",
          "name": "stdout",
          "text": [
            "total 4\n",
            "-rw-r--r-- 1 root root 1680 Apr 13 14:07 01_pytorch_workflow_model_0.pth\n"
          ]
        }
      ]
    },
    {
      "cell_type": "code",
      "source": [
        "model_0.state_dict()"
      ],
      "metadata": {
        "colab": {
          "base_uri": "https://localhost:8080/"
        },
        "id": "LYhiat6CW2L4",
        "outputId": "605b66fa-477c-4941-8eed-79ee7b4d77de"
      },
      "execution_count": null,
      "outputs": [
        {
          "output_type": "execute_result",
          "data": {
            "text/plain": [
              "OrderedDict([('weights', tensor([0.9462])), ('bias', tensor([0.1963]))])"
            ]
          },
          "metadata": {},
          "execution_count": 80
        }
      ]
    },
    {
      "cell_type": "code",
      "source": [
        "#Loading a pytorch model\n",
        "#since we state our model's state dict rather then the new model we create a new instance\n",
        "# of the model class and load the saved stte_dict into that\n",
        "\n",
        "#Instantiate a new instance of the class\n",
        "loaded_model_0= LinearRegressionModel()\n",
        "\n",
        "#load the save state_dict() of model_0, this will update the new instace with updates parameters\n",
        "loaded_model_0.load_state_dict(torch.load(f=MODEL_SAVE_PATH))\n"
      ],
      "metadata": {
        "colab": {
          "base_uri": "https://localhost:8080/"
        },
        "id": "qr2xqiWZRthM",
        "outputId": "944ba5ea-a3d6-404e-8c4d-95fbe597d92f"
      },
      "execution_count": null,
      "outputs": [
        {
          "output_type": "execute_result",
          "data": {
            "text/plain": [
              "<All keys matched successfully>"
            ]
          },
          "metadata": {},
          "execution_count": 81
        }
      ]
    },
    {
      "cell_type": "code",
      "source": [
        "loaded_model_0.state_dict()"
      ],
      "metadata": {
        "colab": {
          "base_uri": "https://localhost:8080/"
        },
        "id": "Ww3Sf7sTWx2q",
        "outputId": "5f2749b0-2e28-487f-bd40-8d5e95f76112"
      },
      "execution_count": null,
      "outputs": [
        {
          "output_type": "execute_result",
          "data": {
            "text/plain": [
              "OrderedDict([('weights', tensor([0.9462])), ('bias', tensor([0.1963]))])"
            ]
          },
          "metadata": {},
          "execution_count": 82
        }
      ]
    },
    {
      "cell_type": "code",
      "source": [
        "#make some prediction with our loaded model\n",
        "loaded_model_0.eval()\n",
        "with torch.inference_mode():\n",
        "  loaded_model_preds = loaded_model_0(X_test)\n",
        "\n",
        "loaded_model_preds\n",
        "\n"
      ],
      "metadata": {
        "colab": {
          "base_uri": "https://localhost:8080/"
        },
        "id": "ha3r9HFZWxRG",
        "outputId": "9f474dfb-f7e1-4cca-93df-a86d7e91cbcc"
      },
      "execution_count": null,
      "outputs": [
        {
          "output_type": "execute_result",
          "data": {
            "text/plain": [
              "tensor([[0.9533],\n",
              "        [0.9723],\n",
              "        [0.9912],\n",
              "        [1.0101],\n",
              "        [1.0290],\n",
              "        [1.0480],\n",
              "        [1.0669],\n",
              "        [1.0858],\n",
              "        [1.1047],\n",
              "        [1.1237]])"
            ]
          },
          "metadata": {},
          "execution_count": 83
        }
      ]
    },
    {
      "cell_type": "code",
      "source": [
        "#make some prediction with our model_0\n",
        "model_0.eval()\n",
        "with torch.inference_mode():\n",
        "  y_preds = model_0(X_test)\n",
        "\n",
        "y_preds"
      ],
      "metadata": {
        "colab": {
          "base_uri": "https://localhost:8080/"
        },
        "id": "376Q4ESgXS1D",
        "outputId": "d13c3ce0-bf5d-4076-8c7c-1ca2d51b7670"
      },
      "execution_count": null,
      "outputs": [
        {
          "output_type": "execute_result",
          "data": {
            "text/plain": [
              "tensor([[0.9533],\n",
              "        [0.9723],\n",
              "        [0.9912],\n",
              "        [1.0101],\n",
              "        [1.0290],\n",
              "        [1.0480],\n",
              "        [1.0669],\n",
              "        [1.0858],\n",
              "        [1.1047],\n",
              "        [1.1237]])"
            ]
          },
          "metadata": {},
          "execution_count": 84
        }
      ]
    },
    {
      "cell_type": "code",
      "source": [
        "y_preds==loaded_model_preds #check if they are the same predictions"
      ],
      "metadata": {
        "colab": {
          "base_uri": "https://localhost:8080/"
        },
        "id": "KOeZbR_HXSqd",
        "outputId": "0bc7e679-4be9-418e-ea9b-591d032d6988"
      },
      "execution_count": null,
      "outputs": [
        {
          "output_type": "execute_result",
          "data": {
            "text/plain": [
              "tensor([[True],\n",
              "        [True],\n",
              "        [True],\n",
              "        [True],\n",
              "        [True],\n",
              "        [True],\n",
              "        [True],\n",
              "        [True],\n",
              "        [True],\n",
              "        [True]])"
            ]
          },
          "metadata": {},
          "execution_count": 85
        }
      ]
    },
    {
      "cell_type": "markdown",
      "source": [
        "Putting all together\n",
        "\n",
        "Do everything in one place"
      ],
      "metadata": {
        "id": "twkzgXgJGjVd"
      }
    },
    {
      "cell_type": "code",
      "source": [
        "#IMPORTING THE NEEDED LIBRARY\n",
        "import torch\n",
        "from torch import nn\n",
        "import matplotlib.pyplot as plt"
      ],
      "metadata": {
        "id": "cBYhuzzTXShE"
      },
      "execution_count": null,
      "outputs": []
    },
    {
      "cell_type": "code",
      "source": [
        "#create a device-agnostic code -> if there is a gpu available the code will use it (for potentially faster computing)\n",
        "device = \"cuda\" if torch.cuda.is_available() else \"cpu\"\n",
        "print(\"we are running on device:\", device)"
      ],
      "metadata": {
        "id": "Lg8hc7TaXSYH",
        "colab": {
          "base_uri": "https://localhost:8080/"
        },
        "outputId": "e0bad352-e5b6-4e2a-c17f-ad13c6da1867"
      },
      "execution_count": null,
      "outputs": [
        {
          "output_type": "stream",
          "name": "stdout",
          "text": [
            "we are running on device: cpu\n"
          ]
        }
      ]
    },
    {
      "cell_type": "code",
      "source": [
        "# DATASET\n",
        "#we create some data by using the linear regression formula\n",
        "\n",
        "weight = 0.7\n",
        "bias = 0.3\n",
        "\n",
        "#we want to create a model that is able to predict this values\n",
        "\n",
        "start = 0\n",
        "end = 1\n",
        "step = 0.02\n",
        "\n",
        "#we have the data\n",
        "X = torch.arange(start,end, step).unsqueeze(dim=1)\n",
        "y = weight * X + bias"
      ],
      "metadata": {
        "id": "Bk3_4nMlIWy1"
      },
      "execution_count": null,
      "outputs": []
    },
    {
      "cell_type": "code",
      "source": [
        "#we split the data into training and testing data, we use 80% and 20%\n",
        "train_split = int(0.8 * len(X))\n",
        "X_train, y_train = X[: train_split], y[: train_split]\n",
        "X_test, y_test =   X[train_split :], y[train_split:]\n"
      ],
      "metadata": {
        "id": "wGr73yQoIWsi"
      },
      "execution_count": null,
      "outputs": []
    },
    {
      "cell_type": "code",
      "source": [
        "plot_predictions(X_train, y_train, X_test, y_test)"
      ],
      "metadata": {
        "colab": {
          "base_uri": "https://localhost:8080/",
          "height": 535
        },
        "id": "I5woISKXIWkG",
        "outputId": "5c5d21de-f6eb-4c09-9ec6-975385dedd2e"
      },
      "execution_count": null,
      "outputs": [
        {
          "output_type": "display_data",
          "data": {
            "text/plain": [
              "<Figure size 1000x700 with 1 Axes>"
            ],
            "image/png": "[encoded data removed]"
          },
          "metadata": {}
        }
      ]
    },
    {
      "cell_type": "code",
      "source": [
        "#Building the pytorch linear model\n",
        "\n",
        "class LinearRegressionModelV2(nn.Module):\n",
        "\n",
        "  def __init__(self):\n",
        "    super().__init__()\n",
        "    #instead of defining ourselves the two parameters weight and bias, we can use the linear layer of the nn\n",
        "    #we use the nn.Linear() to create the model parameters\n",
        "    self.linear_layer = nn.Linear(in_features = 1, out_features = 1) #this numbers depends on th data we are working with, in this case we are taken an  x in input and we want a y in output\n",
        "    #the nn.Liear will apply a linear transformation meaning y= w*X +b\n",
        "\n",
        "  def forward(self, X: torch.Tensor)  -> torch.Tensor:\n",
        "    return self.linear_layer(X)\n",
        "\n",
        "\n",
        "#set the manual seed\n",
        "torch.manual_seed(42)\n",
        "model_1 = LinearRegressionModelV2()\n",
        "model_1, model_1.state_dict()"
      ],
      "metadata": {
        "colab": {
          "base_uri": "https://localhost:8080/"
        },
        "id": "M6igjxarIWbH",
        "outputId": "b39c4af2-0ccd-4b09-d6ae-b0af1e2bccc5"
      },
      "execution_count": null,
      "outputs": [
        {
          "output_type": "execute_result",
          "data": {
            "text/plain": [
              "(LinearRegressionModelV2(\n",
              "   (linear_layer): Linear(in_features=1, out_features=1, bias=True)\n",
              " ),\n",
              " OrderedDict([('linear_layer.weight', tensor([[0.7645]])),\n",
              "              ('linear_layer.bias', tensor([0.8300]))]))"
            ]
          },
          "metadata": {},
          "execution_count": 91
        }
      ]
    },
    {
      "cell_type": "code",
      "source": [
        "#training the model\n",
        "#we need: a loss function, an optimizer, a training loop, a testing loop\n",
        "\n",
        "loss_function = nn.L1Loss()\n",
        "\n",
        "optimizer = torch.optim.SGD(params = model_1.parameters(),lr = 0.01)"
      ],
      "metadata": {
        "id": "e1xigYK2IWS4"
      },
      "execution_count": null,
      "outputs": []
    },
    {
      "cell_type": "code",
      "source": [
        "#training loop\n",
        "\n",
        "torch.manual_seed(42)\n",
        "\n",
        "epochs = 200\n",
        "\n",
        "for epoch in range(epochs):\n",
        "  model_1.train()\n",
        "\n",
        "  #1. forward pass\n",
        "  y_pred = model_1(X_train)\n",
        "\n",
        "  #2.loss function\n",
        "  loss = loss_fn(y_pred, y_train)\n",
        "\n",
        "  #3. optimizer zero grad\n",
        "  optimizer.zero_grad()\n",
        "\n",
        "  #4. perform backpropagation\n",
        "  loss.backward()\n",
        "\n",
        "  #5. optimizer.step()\n",
        "  optimizer.step()\n",
        "\n",
        "\n",
        "  #testing\n",
        "  model_1.eval()\n",
        "  with torch.inference_mode():\n",
        "    test_pred = model_1(X_test)\n",
        "\n",
        "    test_loss = loss_fn(test_pred, y_test)\n",
        "\n",
        "  #print things out\n",
        "\n",
        "  if epoch %10 == 0:\n",
        "    print(f\"Epoch: {epoch} | Loss: {loss} | test loss: {test_loss}\")"
      ],
      "metadata": {
        "colab": {
          "base_uri": "https://localhost:8080/"
        },
        "id": "MYJsHBtoIWLA",
        "outputId": "0631a4ba-90ad-4784-bec4-b8042b56f81b"
      },
      "execution_count": null,
      "outputs": [
        {
          "output_type": "stream",
          "name": "stdout",
          "text": [
            "Epoch: 0 | Loss: 0.5551779866218567 | test loss: 0.5739762187004089\n",
            "Epoch: 10 | Loss: 0.4399680495262146 | test loss: 0.4392663538455963\n",
            "Epoch: 20 | Loss: 0.3247582018375397 | test loss: 0.30455657839775085\n",
            "Epoch: 30 | Loss: 0.20954827964305878 | test loss: 0.16984674334526062\n",
            "Epoch: 40 | Loss: 0.09433844685554504 | test loss: 0.03513689711689949\n",
            "Epoch: 50 | Loss: 0.023886386305093765 | test loss: 0.04784906655550003\n",
            "Epoch: 60 | Loss: 0.0199567973613739 | test loss: 0.04580312222242355\n",
            "Epoch: 70 | Loss: 0.016517987474799156 | test loss: 0.0375305712223053\n",
            "Epoch: 80 | Loss: 0.013089170679450035 | test loss: 0.029944902285933495\n",
            "Epoch: 90 | Loss: 0.009653178043663502 | test loss: 0.02167237363755703\n",
            "Epoch: 100 | Loss: 0.006215679459273815 | test loss: 0.014086711220443249\n",
            "Epoch: 110 | Loss: 0.002787243574857712 | test loss: 0.005814164876937866\n",
            "Epoch: 120 | Loss: 0.0012645035749301314 | test loss: 0.013801807537674904\n",
            "Epoch: 130 | Loss: 0.0012645035749301314 | test loss: 0.013801807537674904\n",
            "Epoch: 140 | Loss: 0.0012645035749301314 | test loss: 0.013801807537674904\n",
            "Epoch: 150 | Loss: 0.0012645035749301314 | test loss: 0.013801807537674904\n",
            "Epoch: 160 | Loss: 0.0012645035749301314 | test loss: 0.013801807537674904\n",
            "Epoch: 170 | Loss: 0.0012645035749301314 | test loss: 0.013801807537674904\n",
            "Epoch: 180 | Loss: 0.0012645035749301314 | test loss: 0.013801807537674904\n",
            "Epoch: 190 | Loss: 0.0012645035749301314 | test loss: 0.013801807537674904\n"
          ]
        }
      ]
    },
    {
      "cell_type": "code",
      "source": [
        "model_1.state_dict()"
      ],
      "metadata": {
        "colab": {
          "base_uri": "https://localhost:8080/"
        },
        "id": "yfA6NwUQIWD_",
        "outputId": "94ba98c6-c66b-4c3d-d407-97508faa8615"
      },
      "execution_count": null,
      "outputs": [
        {
          "output_type": "execute_result",
          "data": {
            "text/plain": [
              "OrderedDict([('linear_layer.weight', tensor([[0.6968]])),\n",
              "             ('linear_layer.bias', tensor([0.3025]))])"
            ]
          },
          "metadata": {},
          "execution_count": 95
        }
      ]
    },
    {
      "cell_type": "code",
      "source": [
        "plot_predictions( predictions=test_pred)"
      ],
      "metadata": {
        "colab": {
          "base_uri": "https://localhost:8080/",
          "height": 535
        },
        "id": "_8iJDKXNIV1a",
        "outputId": "c4446d5a-b78f-41db-8d1c-d3b057c03c85"
      },
      "execution_count": null,
      "outputs": [
        {
          "output_type": "display_data",
          "data": {
            "text/plain": [
              "<Figure size 1000x700 with 1 Axes>"
            ],
            "image/png": "[encoded data removed]"
          },
          "metadata": {}
        }
      ]
    },
    {
      "cell_type": "code",
      "source": [
        "#saving and loading a pytorch model\n",
        "\n",
        "from pathlib import Path\n",
        "\n",
        "#create a model director\n",
        "#MODEL_PATH = Path(\"Models\")\n",
        "#MODEL_PATH.mkdir(parets=True, exist_ok = True)\n",
        "\n",
        "MODEL_NAME= \"01_MODEL_1\"\n",
        "MODEL_SAVE_PATH = MODEL_PATH / MODEL_NAME\n",
        "\n",
        "\n",
        "\n",
        "#LOADING THE MODEL\n",
        "new_model = LinearRegressionModelV2()\n",
        "new_model.load_state_dict((torch.load(f=MODEL_SAVE_PATH)))"
      ],
      "metadata": {
        "id": "AkOxvYFUaAtO"
      },
      "execution_count": null,
      "outputs": []
    },
    {
      "cell_type": "code",
      "source": [],
      "metadata": {
        "id": "xWqEwVybaAlH"
      },
      "execution_count": null,
      "outputs": []
    },
    {
      "cell_type": "code",
      "source": [],
      "metadata": {
        "id": "n4Q41-IfaAc8"
      },
      "execution_count": null,
      "outputs": []
    },
    {
      "cell_type": "code",
      "source": [],
      "metadata": {
        "id": "zbkOvfvcaAMV"
      },
      "execution_count": null,
      "outputs": []
    }
  ]
}