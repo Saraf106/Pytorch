{
  "nbformat": 4,
  "nbformat_minor": 0,
  "metadata": {
    "colab": {
      "provenance": [],
      "gpuType": "T4"
    },
    "kernelspec": {
      "name": "python3",
      "display_name": "Python 3"
    },
    "language_info": {
      "name": "python"
    }
  },
  "cells": [
    {
      "cell_type": "code",
      "source": [
        "import torch\n",
        "import matplotlib.pyplot as plt\n",
        "import numpy as np\n",
        "import pandas as pd\n"
      ],
      "metadata": {
        "id": "gKiAlx_L5D4T"
      },
      "execution_count": null,
      "outputs": []
    },
    {
      "cell_type": "code",
      "source": [
        "print(torch.__version__)"
      ],
      "metadata": {
        "colab": {
          "base_uri": "https://localhost:8080/"
        },
        "id": "4dXmSj5vCUu_",
        "outputId": "e2aaf6fc-d65b-42a2-9bf8-0e06d529ca0f"
      },
      "execution_count": null,
      "outputs": [
        {
          "output_type": "stream",
          "name": "stdout",
          "text": [
            "2.1.0+cu121\n"
          ]
        }
      ]
    },
    {
      "cell_type": "markdown",
      "source": [
        "Creating a tensor, we have different types:\n",
        "-scalar\n",
        "-vector"
      ],
      "metadata": {
        "id": "S2XUWVrAFbVv"
      }
    },
    {
      "cell_type": "code",
      "source": [
        "#scalar\n",
        "scalar = torch.tensor(7)\n",
        "scalar"
      ],
      "metadata": {
        "colab": {
          "base_uri": "https://localhost:8080/"
        },
        "id": "RuYk2qFcFYhZ",
        "outputId": "96a3c6c6-be56-4b06-9e43-f4b4ae3e630e"
      },
      "execution_count": null,
      "outputs": [
        {
          "output_type": "execute_result",
          "data": {
            "text/plain": [
              "tensor(7)"
            ]
          },
          "metadata": {},
          "execution_count": 4
        }
      ]
    },
    {
      "cell_type": "code",
      "source": [
        "scalar.ndim"
      ],
      "metadata": {
        "colab": {
          "base_uri": "https://localhost:8080/"
        },
        "id": "D9Hlgi6XFzf1",
        "outputId": "9bd6486d-b7d3-4c62-f6d8-2313cd5694cf"
      },
      "execution_count": null,
      "outputs": [
        {
          "output_type": "execute_result",
          "data": {
            "text/plain": [
              "0"
            ]
          },
          "metadata": {},
          "execution_count": 5
        }
      ]
    },
    {
      "cell_type": "code",
      "source": [
        "scalar.item() #get tensor back as python int"
      ],
      "metadata": {
        "colab": {
          "base_uri": "https://localhost:8080/"
        },
        "id": "dYgH3RgWGIuE",
        "outputId": "0a99a740-bf7a-40c2-ae0b-7fe073772ae1"
      },
      "execution_count": null,
      "outputs": [
        {
          "output_type": "execute_result",
          "data": {
            "text/plain": [
              "7"
            ]
          },
          "metadata": {},
          "execution_count": 6
        }
      ]
    },
    {
      "cell_type": "code",
      "source": [
        "#vector\n",
        "vector = torch.tensor([7,7])\n",
        "vector"
      ],
      "metadata": {
        "colab": {
          "base_uri": "https://localhost:8080/"
        },
        "id": "Wjvbr-yNGQIP",
        "outputId": "447ecb92-5d9e-4f1f-f205-6fea42eb2ab4"
      },
      "execution_count": null,
      "outputs": [
        {
          "output_type": "execute_result",
          "data": {
            "text/plain": [
              "tensor([7, 7])"
            ]
          },
          "metadata": {},
          "execution_count": 7
        }
      ]
    },
    {
      "cell_type": "code",
      "source": [
        "vector.ndim  #dimension is the number of opened squared brackets"
      ],
      "metadata": {
        "colab": {
          "base_uri": "https://localhost:8080/"
        },
        "id": "41lKx0cXGv4V",
        "outputId": "a9f6be9c-3d68-41c2-d119-f438bbc878bf"
      },
      "execution_count": null,
      "outputs": [
        {
          "output_type": "execute_result",
          "data": {
            "text/plain": [
              "1"
            ]
          },
          "metadata": {},
          "execution_count": 8
        }
      ]
    },
    {
      "cell_type": "code",
      "source": [
        "vector.shape #it's 2 since we have 2 numbers"
      ],
      "metadata": {
        "colab": {
          "base_uri": "https://localhost:8080/"
        },
        "id": "6Ww-fWUYGya8",
        "outputId": "6ebe8d51-9c07-407c-9a72-4fca0563bc3e"
      },
      "execution_count": null,
      "outputs": [
        {
          "output_type": "execute_result",
          "data": {
            "text/plain": [
              "torch.Size([2])"
            ]
          },
          "metadata": {},
          "execution_count": 9
        }
      ]
    },
    {
      "cell_type": "code",
      "source": [
        "#MATRIX\n",
        "MATRIX= torch.tensor([[7,8], [9,10]])\n",
        "MATRIX"
      ],
      "metadata": {
        "colab": {
          "base_uri": "https://localhost:8080/"
        },
        "id": "hP6P25OfG-73",
        "outputId": "ef476b0a-2bd4-43f0-dae3-51f237679382"
      },
      "execution_count": null,
      "outputs": [
        {
          "output_type": "execute_result",
          "data": {
            "text/plain": [
              "tensor([[ 7,  8],\n",
              "        [ 9, 10]])"
            ]
          },
          "metadata": {},
          "execution_count": 10
        }
      ]
    },
    {
      "cell_type": "code",
      "source": [
        "MATRIX.ndim #it's 2 since we have two opening squared brackets"
      ],
      "metadata": {
        "colab": {
          "base_uri": "https://localhost:8080/"
        },
        "id": "4CcQD3gLHL_E",
        "outputId": "c9adb60e-9feb-4ad5-eed9-ab39c2586322"
      },
      "execution_count": null,
      "outputs": [
        {
          "output_type": "execute_result",
          "data": {
            "text/plain": [
              "2"
            ]
          },
          "metadata": {},
          "execution_count": 11
        }
      ]
    },
    {
      "cell_type": "code",
      "source": [
        "MATRIX[0]"
      ],
      "metadata": {
        "colab": {
          "base_uri": "https://localhost:8080/"
        },
        "id": "E8gwyD2DHPkT",
        "outputId": "374f9086-5203-41f2-9296-65299dda5667"
      },
      "execution_count": null,
      "outputs": [
        {
          "output_type": "execute_result",
          "data": {
            "text/plain": [
              "tensor([7, 8])"
            ]
          },
          "metadata": {},
          "execution_count": 12
        }
      ]
    },
    {
      "cell_type": "code",
      "source": [
        "MATRIX.shape  #it's a 2x, 2 element inside [] and 2 []"
      ],
      "metadata": {
        "colab": {
          "base_uri": "https://localhost:8080/"
        },
        "id": "s0j5ZewTHfVV",
        "outputId": "422d7ec0-306f-45c6-ebd8-1dffc3126df9"
      },
      "execution_count": null,
      "outputs": [
        {
          "output_type": "execute_result",
          "data": {
            "text/plain": [
              "torch.Size([2, 2])"
            ]
          },
          "metadata": {},
          "execution_count": 13
        }
      ]
    },
    {
      "cell_type": "code",
      "source": [
        "#TENSOR\n",
        "TENSOR = torch.tensor([[[1, 2, 3], [3,6,9], [2, 4, 5]]])\n",
        "TENSOR\n"
      ],
      "metadata": {
        "colab": {
          "base_uri": "https://localhost:8080/"
        },
        "id": "RRIiNS6aHsEK",
        "outputId": "d1a902a4-7567-4f61-9da8-62c8487b3b49"
      },
      "execution_count": null,
      "outputs": [
        {
          "output_type": "execute_result",
          "data": {
            "text/plain": [
              "tensor([[[1, 2, 3],\n",
              "         [3, 6, 9],\n",
              "         [2, 4, 5]]])"
            ]
          },
          "metadata": {},
          "execution_count": 2
        }
      ]
    },
    {
      "cell_type": "code",
      "source": [
        "TENSOR.ndim\n"
      ],
      "metadata": {
        "colab": {
          "base_uri": "https://localhost:8080/"
        },
        "id": "VneT2gCOIJhg",
        "outputId": "41e2f277-535f-4ab5-b610-8226f99f6a24"
      },
      "execution_count": null,
      "outputs": [
        {
          "output_type": "execute_result",
          "data": {
            "text/plain": [
              "3"
            ]
          },
          "metadata": {},
          "execution_count": 19
        }
      ]
    },
    {
      "cell_type": "code",
      "source": [
        "TENSOR.shape"
      ],
      "metadata": {
        "colab": {
          "base_uri": "https://localhost:8080/"
        },
        "id": "hWt264l1IXgV",
        "outputId": "20f4683d-df58-47df-8695-27538353c98c"
      },
      "execution_count": null,
      "outputs": [
        {
          "output_type": "execute_result",
          "data": {
            "text/plain": [
              "torch.Size([1, 3, 3])"
            ]
          },
          "metadata": {},
          "execution_count": 20
        }
      ]
    },
    {
      "cell_type": "code",
      "source": [
        "tensor = torch.tensor([[[[0, 1, 2], [3, 4, 5], [6, 7, 8],[9, 10, 11]]]])\n",
        "tensor"
      ],
      "metadata": {
        "colab": {
          "base_uri": "https://localhost:8080/"
        },
        "id": "FSa-bvtoIuPg",
        "outputId": "edc105fc-ca59-42b7-abaa-a5bf4162392d"
      },
      "execution_count": null,
      "outputs": [
        {
          "output_type": "execute_result",
          "data": {
            "text/plain": [
              "tensor([[[[ 0,  1,  2],\n",
              "          [ 3,  4,  5],\n",
              "          [ 6,  7,  8],\n",
              "          [ 9, 10, 11]]]])"
            ]
          },
          "metadata": {},
          "execution_count": 22
        }
      ]
    },
    {
      "cell_type": "code",
      "source": [
        "tensor.ndim"
      ],
      "metadata": {
        "colab": {
          "base_uri": "https://localhost:8080/"
        },
        "id": "PrXasoF3Jsn-",
        "outputId": "65486b45-55f3-4d2e-8791-bc67416c28db"
      },
      "execution_count": null,
      "outputs": [
        {
          "output_type": "execute_result",
          "data": {
            "text/plain": [
              "4"
            ]
          },
          "metadata": {},
          "execution_count": 23
        }
      ]
    },
    {
      "cell_type": "code",
      "source": [
        "tensor.shape"
      ],
      "metadata": {
        "colab": {
          "base_uri": "https://localhost:8080/"
        },
        "id": "cuzVc0hMJvU8",
        "outputId": "d319aaa5-ed98-437d-8b24-88989503310a"
      },
      "execution_count": null,
      "outputs": [
        {
          "output_type": "execute_result",
          "data": {
            "text/plain": [
              "torch.Size([1, 1, 4, 3])"
            ]
          },
          "metadata": {},
          "execution_count": 24
        }
      ]
    },
    {
      "cell_type": "markdown",
      "source": [],
      "metadata": {
        "id": "I1xj7Co-LPfK"
      }
    },
    {
      "cell_type": "markdown",
      "source": [
        "2°CHAPTER: RANDOM TENSORS\n",
        "\n",
        "Why random tensors?\n",
        "Random tensors are important because the way many neural networks learn is that they start with tensors full of random numbers and then adjust those random numbers to better represent the data.\n",
        "\n",
        "'Start with random numbers -> look at data -> update ranodm numbers -> look at data -> update ranodm numbers"
      ],
      "metadata": {
        "id": "DV6LF8EYLRl_"
      }
    },
    {
      "cell_type": "code",
      "source": [
        "#Create a random tensor of size (3,4)\n",
        "random_tensor = torch.rand(3,2,4,5)\n",
        "#last number-> columns\n",
        "#last-1 number -> rows\n",
        "#last-2 number -> how many of 4x5 are in each repetation\n",
        "#first number -> how many times it's repeated\n",
        "random_tensor"
      ],
      "metadata": {
        "colab": {
          "base_uri": "https://localhost:8080/"
        },
        "id": "pt6H88yvLxzp",
        "outputId": "2849fcf9-e87d-4074-e51d-fa80f3694388"
      },
      "execution_count": null,
      "outputs": [
        {
          "output_type": "execute_result",
          "data": {
            "text/plain": [
              "tensor([[[[0.3497, 0.2184, 0.0035, 0.8218, 0.2511],\n",
              "          [0.7832, 0.9002, 0.0756, 0.1413, 0.9218],\n",
              "          [0.4697, 0.3969, 0.4969, 0.0980, 0.3580],\n",
              "          [0.5214, 0.9984, 0.4333, 0.8006, 0.9160]],\n",
              "\n",
              "         [[0.2647, 0.4348, 0.9375, 0.5905, 0.5862],\n",
              "          [0.6316, 0.5183, 0.6828, 0.6180, 0.7570],\n",
              "          [0.3520, 0.0359, 0.2644, 0.9810, 0.3912],\n",
              "          [0.3683, 0.5714, 0.5729, 0.9411, 0.0041]]],\n",
              "\n",
              "\n",
              "        [[[0.6513, 0.9825, 0.4202, 0.0895, 0.7719],\n",
              "          [0.4712, 0.7493, 0.5089, 0.9901, 0.7092],\n",
              "          [0.5624, 0.4390, 0.9617, 0.2032, 0.1761],\n",
              "          [0.2713, 0.1979, 0.7947, 0.0353, 0.2505]],\n",
              "\n",
              "         [[0.6864, 0.4598, 0.9891, 0.3325, 0.5873],\n",
              "          [0.8459, 0.7931, 0.5490, 0.5769, 0.8209],\n",
              "          [0.2567, 0.7502, 0.2996, 0.5990, 0.3983],\n",
              "          [0.2002, 0.2494, 0.5857, 0.0669, 0.9699]]],\n",
              "\n",
              "\n",
              "        [[[0.4186, 0.3355, 0.0790, 0.3913, 0.6935],\n",
              "          [0.7012, 0.9825, 0.8931, 0.9774, 0.0020],\n",
              "          [0.3098, 0.7135, 0.1801, 0.7066, 0.4011],\n",
              "          [0.2996, 0.1145, 0.4665, 0.3779, 0.0133]],\n",
              "\n",
              "         [[0.2605, 0.8941, 0.7562, 0.2108, 0.7853],\n",
              "          [0.7261, 0.9278, 0.2607, 0.0519, 0.4916],\n",
              "          [0.2855, 0.4748, 0.6239, 0.8636, 0.0831],\n",
              "          [0.3380, 0.4597, 0.4913, 0.5955, 0.6237]]]])"
            ]
          },
          "metadata": {},
          "execution_count": 15
        }
      ]
    },
    {
      "cell_type": "code",
      "source": [
        "random_tensor.ndim"
      ],
      "metadata": {
        "colab": {
          "base_uri": "https://localhost:8080/"
        },
        "id": "pqCX9EzBMDPp",
        "outputId": "f4e82429-f7db-4b04-e786-5a570e6d6888"
      },
      "execution_count": null,
      "outputs": [
        {
          "output_type": "execute_result",
          "data": {
            "text/plain": [
              "4"
            ]
          },
          "metadata": {},
          "execution_count": 16
        }
      ]
    },
    {
      "cell_type": "code",
      "source": [
        "random_tensor.shape"
      ],
      "metadata": {
        "colab": {
          "base_uri": "https://localhost:8080/"
        },
        "id": "30nJW_-9MDJd",
        "outputId": "27765119-0047-4862-c368-c7f9e27cd816"
      },
      "execution_count": null,
      "outputs": [
        {
          "output_type": "execute_result",
          "data": {
            "text/plain": [
              "torch.Size([3, 2, 4, 5])"
            ]
          },
          "metadata": {},
          "execution_count": 17
        }
      ]
    },
    {
      "cell_type": "code",
      "source": [
        "#Create a random tensor with similar shape to an image tensor\n",
        "random_image_size_tensor = torch.rand(size=(3,224,224)) #colour channel (R,G,B), heigh, width\n",
        "random_image_size_tensor.shape, random_image_size_tensor.ndim\n",
        "random_image_size_tensor"
      ],
      "metadata": {
        "colab": {
          "base_uri": "https://localhost:8080/"
        },
        "id": "jYke30DiMfK1",
        "outputId": "7df64bfc-7d79-4e59-bed9-d08e210cfbe0"
      },
      "execution_count": null,
      "outputs": [
        {
          "output_type": "execute_result",
          "data": {
            "text/plain": [
              "tensor([[[0.6913, 0.9722, 0.8581],\n",
              "         [0.1170, 0.2766, 0.8606],\n",
              "         [0.9450, 0.7159, 0.7192],\n",
              "         ...,\n",
              "         [0.8115, 0.5609, 0.5215],\n",
              "         [0.1361, 0.5846, 0.4021],\n",
              "         [0.9309, 0.3650, 0.4343]],\n",
              "\n",
              "        [[0.6777, 0.7310, 0.4367],\n",
              "         [0.7582, 0.4337, 0.1615],\n",
              "         [0.2338, 0.7271, 0.8784],\n",
              "         ...,\n",
              "         [0.1002, 0.0704, 0.3323],\n",
              "         [0.1540, 0.2017, 0.7933],\n",
              "         [0.7292, 0.6562, 0.5889]],\n",
              "\n",
              "        [[0.7028, 0.2427, 0.7451],\n",
              "         [0.7475, 0.4202, 0.0446],\n",
              "         [0.5513, 0.7619, 0.2637],\n",
              "         ...,\n",
              "         [0.7550, 0.5311, 0.4543],\n",
              "         [0.1940, 0.6749, 0.2622],\n",
              "         [0.0231, 0.7299, 0.7157]],\n",
              "\n",
              "        ...,\n",
              "\n",
              "        [[0.6065, 0.4504, 0.8327],\n",
              "         [0.8242, 0.5507, 0.2282],\n",
              "         [0.8523, 0.7133, 0.7431],\n",
              "         ...,\n",
              "         [0.7932, 0.1193, 0.5621],\n",
              "         [0.3971, 0.2856, 0.9117],\n",
              "         [0.8429, 0.5372, 0.9897]],\n",
              "\n",
              "        [[0.5575, 0.7575, 0.2759],\n",
              "         [0.8391, 0.0716, 0.2860],\n",
              "         [0.9077, 0.2150, 0.9347],\n",
              "         ...,\n",
              "         [0.7491, 0.8175, 0.4997],\n",
              "         [0.0747, 0.4898, 0.0720],\n",
              "         [0.2658, 0.5802, 0.4843]],\n",
              "\n",
              "        [[0.9929, 0.1393, 0.6229],\n",
              "         [0.4361, 0.8402, 0.7752],\n",
              "         [0.4227, 0.6096, 0.9500],\n",
              "         ...,\n",
              "         [0.8595, 0.8459, 0.4986],\n",
              "         [0.9585, 0.4229, 0.7832],\n",
              "         [0.1323, 0.7263, 0.3978]]])"
            ]
          },
          "metadata": {},
          "execution_count": 38
        }
      ]
    },
    {
      "cell_type": "code",
      "source": [
        "a=torch.tensor([[7,3,4,8], [6,7,3,4]])\n",
        "a"
      ],
      "metadata": {
        "id": "oiyKuyqBPzSv",
        "colab": {
          "base_uri": "https://localhost:8080/"
        },
        "outputId": "b4709751-23b9-4f33-8340-8b3b6f709ef7"
      },
      "execution_count": null,
      "outputs": [
        {
          "output_type": "execute_result",
          "data": {
            "text/plain": [
              "tensor([[7, 3, 4, 8],\n",
              "        [6, 7, 3, 4]])"
            ]
          },
          "metadata": {},
          "execution_count": 12
        }
      ]
    },
    {
      "cell_type": "code",
      "source": [
        "a.ndim"
      ],
      "metadata": {
        "colab": {
          "base_uri": "https://localhost:8080/"
        },
        "id": "Z45f61ozk4P6",
        "outputId": "a01746fd-c6c7-489c-fe69-788d2389d080"
      },
      "execution_count": null,
      "outputs": [
        {
          "output_type": "execute_result",
          "data": {
            "text/plain": [
              "2"
            ]
          },
          "metadata": {},
          "execution_count": 13
        }
      ]
    },
    {
      "cell_type": "code",
      "source": [
        "a.shape"
      ],
      "metadata": {
        "colab": {
          "base_uri": "https://localhost:8080/"
        },
        "id": "fKhrpHyck4Iv",
        "outputId": "58606857-33f9-444c-bf84-b9c2197b837f"
      },
      "execution_count": null,
      "outputs": [
        {
          "output_type": "execute_result",
          "data": {
            "text/plain": [
              "torch.Size([2, 4])"
            ]
          },
          "metadata": {},
          "execution_count": 14
        }
      ]
    },
    {
      "cell_type": "code",
      "source": [
        "image=torch.rand(size=(3,224,224))\n",
        "image"
      ],
      "metadata": {
        "colab": {
          "base_uri": "https://localhost:8080/"
        },
        "id": "VIa3ZwLPk4Bj",
        "outputId": "ff0592bd-7584-4e96-bcc3-6afd35df41fd"
      },
      "execution_count": null,
      "outputs": [
        {
          "output_type": "execute_result",
          "data": {
            "text/plain": [
              "tensor([[[0.4225, 0.5040, 0.3510,  ..., 0.1940, 0.7883, 0.7263],\n",
              "         [0.2596, 0.6301, 0.4709,  ..., 0.1068, 0.0521, 0.3144],\n",
              "         [0.2411, 0.7681, 0.7194,  ..., 0.7729, 0.4216, 0.1912],\n",
              "         ...,\n",
              "         [0.7627, 0.9667, 0.3773,  ..., 0.3411, 0.3139, 0.6344],\n",
              "         [0.7842, 0.8826, 0.3788,  ..., 0.3784, 0.9200, 0.6333],\n",
              "         [0.5584, 0.7852, 0.3590,  ..., 0.5965, 0.3983, 0.9416]],\n",
              "\n",
              "        [[0.6228, 0.1966, 0.2509,  ..., 0.3513, 0.0890, 0.1685],\n",
              "         [0.1928, 0.3292, 0.2657,  ..., 0.5036, 0.9333, 0.9381],\n",
              "         [0.3274, 0.1621, 0.8793,  ..., 0.4926, 0.8137, 0.5603],\n",
              "         ...,\n",
              "         [0.4490, 0.1695, 0.5406,  ..., 0.8036, 0.8778, 0.2845],\n",
              "         [0.9176, 0.6711, 0.3177,  ..., 0.6955, 0.1123, 0.5417],\n",
              "         [0.8389, 0.6716, 0.6706,  ..., 0.7118, 0.5960, 0.3561]],\n",
              "\n",
              "        [[0.6912, 0.7943, 0.5118,  ..., 0.7023, 0.7397, 0.9063],\n",
              "         [0.7521, 0.4244, 0.3919,  ..., 0.0840, 0.1017, 0.3041],\n",
              "         [0.6550, 0.4314, 0.4704,  ..., 0.9612, 0.5307, 0.0128],\n",
              "         ...,\n",
              "         [0.0676, 0.3532, 0.8429,  ..., 0.1051, 0.9552, 0.8073],\n",
              "         [0.7916, 0.0572, 0.1845,  ..., 0.8923, 0.4395, 0.3274],\n",
              "         [0.2335, 0.3270, 0.6600,  ..., 0.5926, 0.8414, 0.4635]]])"
            ]
          },
          "metadata": {},
          "execution_count": 18
        }
      ]
    },
    {
      "cell_type": "code",
      "source": [
        "torch.zeros(size=(3,4))"
      ],
      "metadata": {
        "colab": {
          "base_uri": "https://localhost:8080/"
        },
        "id": "ovfPk1k2k34m",
        "outputId": "5986287d-3c10-4820-80ed-e99e8cdc6dcd"
      },
      "execution_count": null,
      "outputs": [
        {
          "output_type": "execute_result",
          "data": {
            "text/plain": [
              "tensor([[0., 0., 0., 0.],\n",
              "        [0., 0., 0., 0.],\n",
              "        [0., 0., 0., 0.]])"
            ]
          },
          "metadata": {},
          "execution_count": 19
        }
      ]
    },
    {
      "cell_type": "code",
      "source": [
        " torch.ones(size=(3,4))"
      ],
      "metadata": {
        "colab": {
          "base_uri": "https://localhost:8080/"
        },
        "id": "q8pfVlMkk3wg",
        "outputId": "8f9b0d14-b005-4684-e5a5-4244a2e6263a"
      },
      "execution_count": null,
      "outputs": [
        {
          "output_type": "execute_result",
          "data": {
            "text/plain": [
              "tensor([[1., 1., 1., 1.],\n",
              "        [1., 1., 1., 1.],\n",
              "        [1., 1., 1., 1.]])"
            ]
          },
          "metadata": {},
          "execution_count": 26
        }
      ]
    },
    {
      "cell_type": "code",
      "source": [
        "a=torch.range(1,10,2)"
      ],
      "metadata": {
        "colab": {
          "base_uri": "https://localhost:8080/"
        },
        "id": "GmCIy8qQk3nX",
        "outputId": "49c218c6-a5af-4175-e895-231ac8fb292d"
      },
      "execution_count": null,
      "outputs": [
        {
          "output_type": "stream",
          "name": "stderr",
          "text": [
            "<ipython-input-27-82d1ee44cc4b>:1: UserWarning: torch.range is deprecated and will be removed in a future release because its behavior is inconsistent with Python's range builtin. Instead, use torch.arange, which produces values in [start, end).\n",
            "  a=torch.range(1,10,2)\n"
          ]
        }
      ]
    },
    {
      "cell_type": "code",
      "source": [
        "b=torch.ones_like(a)\n",
        "b"
      ],
      "metadata": {
        "colab": {
          "base_uri": "https://localhost:8080/"
        },
        "id": "nMBNMdPbu5QC",
        "outputId": "e14844be-5212-4b71-d69d-5f9de25b34dc"
      },
      "execution_count": null,
      "outputs": [
        {
          "output_type": "execute_result",
          "data": {
            "text/plain": [
              "tensor([1., 1., 1., 1., 1.])"
            ]
          },
          "metadata": {},
          "execution_count": 28
        }
      ]
    },
    {
      "cell_type": "code",
      "source": [
        "tensor16=torch.tensor([3,4,5], dtype=torch.float16)\n",
        "tensor16"
      ],
      "metadata": {
        "colab": {
          "base_uri": "https://localhost:8080/"
        },
        "id": "Q2VmLsvPk3fj",
        "outputId": "c18458fc-a8cf-4924-c7da-1e9270d4f109"
      },
      "execution_count": null,
      "outputs": [
        {
          "output_type": "execute_result",
          "data": {
            "text/plain": [
              "tensor([3., 4., 5.], dtype=torch.float16)"
            ]
          },
          "metadata": {},
          "execution_count": 29
        }
      ]
    },
    {
      "cell_type": "code",
      "source": [
        "tensor32=tensor16.type(torch.float32)\n",
        "tensor32"
      ],
      "metadata": {
        "colab": {
          "base_uri": "https://localhost:8080/"
        },
        "id": "mhC60bUKk3X6",
        "outputId": "25f4f1ac-a290-457e-cd54-2da470f49c73"
      },
      "execution_count": null,
      "outputs": [
        {
          "output_type": "execute_result",
          "data": {
            "text/plain": [
              "tensor([3., 4., 5.])"
            ]
          },
          "metadata": {},
          "execution_count": 31
        }
      ]
    },
    {
      "cell_type": "code",
      "source": [
        " a=torch.rand(4,5)\n",
        " a"
      ],
      "metadata": {
        "colab": {
          "base_uri": "https://localhost:8080/"
        },
        "id": "pcniHlDEk3SG",
        "outputId": "cd7dda9d-b1c7-4c71-a71a-06c3e804b79c"
      },
      "execution_count": null,
      "outputs": [
        {
          "output_type": "execute_result",
          "data": {
            "text/plain": [
              "tensor([[0.3969, 0.0570, 0.0898, 0.0413, 0.2710],\n",
              "        [0.7636, 0.3169, 0.3325, 0.7762, 0.9659],\n",
              "        [0.1755, 0.4683, 0.8556, 0.2126, 0.2355],\n",
              "        [0.5421, 0.1670, 0.6325, 0.6813, 0.8209]])"
            ]
          },
          "metadata": {},
          "execution_count": 32
        }
      ]
    },
    {
      "cell_type": "code",
      "source": [
        "a.shape"
      ],
      "metadata": {
        "colab": {
          "base_uri": "https://localhost:8080/"
        },
        "id": "8n9dl-KEk3Nn",
        "outputId": "449e8175-0d81-4bd6-849c-407ace9c4d62"
      },
      "execution_count": null,
      "outputs": [
        {
          "output_type": "execute_result",
          "data": {
            "text/plain": [
              "torch.Size([4, 5])"
            ]
          },
          "metadata": {},
          "execution_count": 33
        }
      ]
    },
    {
      "cell_type": "code",
      "source": [
        "a.dtype"
      ],
      "metadata": {
        "colab": {
          "base_uri": "https://localhost:8080/"
        },
        "id": "kNcJN9e40Yu7",
        "outputId": "0605daad-53a7-4fa6-b27a-0e0b4b375224"
      },
      "execution_count": null,
      "outputs": [
        {
          "output_type": "execute_result",
          "data": {
            "text/plain": [
              "torch.float32"
            ]
          },
          "metadata": {},
          "execution_count": 34
        }
      ]
    },
    {
      "cell_type": "code",
      "source": [
        "a.device"
      ],
      "metadata": {
        "colab": {
          "base_uri": "https://localhost:8080/"
        },
        "id": "xMGOhtzL0YeI",
        "outputId": "a79a8597-a964-48fd-d5fc-38a1a102c43d"
      },
      "execution_count": null,
      "outputs": [
        {
          "output_type": "execute_result",
          "data": {
            "text/plain": [
              "device(type='cpu')"
            ]
          },
          "metadata": {},
          "execution_count": 35
        }
      ]
    },
    {
      "cell_type": "code",
      "source": [
        "tensor=torch.tensor([1,2,3])\n",
        "tensor += 10\n",
        "tensor"
      ],
      "metadata": {
        "id": "VBUmG8650YLD",
        "colab": {
          "base_uri": "https://localhost:8080/"
        },
        "outputId": "adc8ff52-51f9-4b62-db8a-f42982089141"
      },
      "execution_count": null,
      "outputs": [
        {
          "output_type": "execute_result",
          "data": {
            "text/plain": [
              "tensor([11, 12, 13])"
            ]
          },
          "metadata": {},
          "execution_count": 3
        }
      ]
    },
    {
      "cell_type": "code",
      "source": [
        "torch.mul(tensor,2)"
      ],
      "metadata": {
        "id": "Exy7_8830X57",
        "colab": {
          "base_uri": "https://localhost:8080/"
        },
        "outputId": "973e26d2-5c9f-4a37-d305-327795df706f"
      },
      "execution_count": null,
      "outputs": [
        {
          "output_type": "execute_result",
          "data": {
            "text/plain": [
              "tensor([22, 24, 26])"
            ]
          },
          "metadata": {},
          "execution_count": 4
        }
      ]
    },
    {
      "cell_type": "code",
      "source": [
        "a=torch.tensor([1,2,3])\n",
        "b=torch.tensor([1,2,3])\n",
        "torch.matmul(a,b)"
      ],
      "metadata": {
        "id": "z5Ow0Ob30Xth",
        "colab": {
          "base_uri": "https://localhost:8080/"
        },
        "outputId": "f2c42538-9da5-4906-92e5-2bf380e72553"
      },
      "execution_count": null,
      "outputs": [
        {
          "output_type": "execute_result",
          "data": {
            "text/plain": [
              "tensor(14)"
            ]
          },
          "metadata": {},
          "execution_count": 6
        }
      ]
    },
    {
      "cell_type": "code",
      "source": [
        "#shapes for matrix multiplications\n",
        "tensor1=torch.tensor([[1,2],[3,4],[5,6]])\n",
        "tensor2= torch.tensor([[7,10], [8,11],[9,12]])\n",
        "torch.mm(tensor1,tensor2)"
      ],
      "metadata": {
        "id": "pInBHBVB0Xgp",
        "colab": {
          "base_uri": "https://localhost:8080/",
          "height": 176
        },
        "outputId": "4c829e4a-d727-47a7-d3c4-b8ebdf4f360b"
      },
      "execution_count": null,
      "outputs": [
        {
          "output_type": "error",
          "ename": "RuntimeError",
          "evalue": "mat1 and mat2 shapes cannot be multiplied (3x2 and 3x2)",
          "traceback": [
            "\u001b[0;31m---------------------------------------------------------------------------\u001b[0m",
            "\u001b[0;31mRuntimeError\u001b[0m                              Traceback (most recent call last)",
            "\u001b[0;32m<ipython-input-7-f798e28ca746>\u001b[0m in \u001b[0;36m<cell line: 4>\u001b[0;34m()\u001b[0m\n\u001b[1;32m      2\u001b[0m \u001b[0mtensor1\u001b[0m\u001b[0;34m=\u001b[0m\u001b[0mtorch\u001b[0m\u001b[0;34m.\u001b[0m\u001b[0mtensor\u001b[0m\u001b[0;34m(\u001b[0m\u001b[0;34m[\u001b[0m\u001b[0;34m[\u001b[0m\u001b[0;36m1\u001b[0m\u001b[0;34m,\u001b[0m\u001b[0;36m2\u001b[0m\u001b[0;34m]\u001b[0m\u001b[0;34m,\u001b[0m\u001b[0;34m[\u001b[0m\u001b[0;36m3\u001b[0m\u001b[0;34m,\u001b[0m\u001b[0;36m4\u001b[0m\u001b[0;34m]\u001b[0m\u001b[0;34m,\u001b[0m\u001b[0;34m[\u001b[0m\u001b[0;36m5\u001b[0m\u001b[0;34m,\u001b[0m\u001b[0;36m6\u001b[0m\u001b[0;34m]\u001b[0m\u001b[0;34m]\u001b[0m\u001b[0;34m)\u001b[0m\u001b[0;34m\u001b[0m\u001b[0;34m\u001b[0m\u001b[0m\n\u001b[1;32m      3\u001b[0m \u001b[0mtensor2\u001b[0m\u001b[0;34m=\u001b[0m \u001b[0mtorch\u001b[0m\u001b[0;34m.\u001b[0m\u001b[0mtensor\u001b[0m\u001b[0;34m(\u001b[0m\u001b[0;34m[\u001b[0m\u001b[0;34m[\u001b[0m\u001b[0;36m7\u001b[0m\u001b[0;34m,\u001b[0m\u001b[0;36m10\u001b[0m\u001b[0;34m]\u001b[0m\u001b[0;34m,\u001b[0m \u001b[0;34m[\u001b[0m\u001b[0;36m8\u001b[0m\u001b[0;34m,\u001b[0m\u001b[0;36m11\u001b[0m\u001b[0;34m]\u001b[0m\u001b[0;34m,\u001b[0m\u001b[0;34m[\u001b[0m\u001b[0;36m9\u001b[0m\u001b[0;34m,\u001b[0m\u001b[0;36m12\u001b[0m\u001b[0;34m]\u001b[0m\u001b[0;34m]\u001b[0m\u001b[0;34m)\u001b[0m\u001b[0;34m\u001b[0m\u001b[0;34m\u001b[0m\u001b[0m\n\u001b[0;32m----> 4\u001b[0;31m \u001b[0mtorch\u001b[0m\u001b[0;34m.\u001b[0m\u001b[0mmm\u001b[0m\u001b[0;34m(\u001b[0m\u001b[0mtensor1\u001b[0m\u001b[0;34m,\u001b[0m\u001b[0mtensor2\u001b[0m\u001b[0;34m)\u001b[0m\u001b[0;34m\u001b[0m\u001b[0;34m\u001b[0m\u001b[0m\n\u001b[0m",
            "\u001b[0;31mRuntimeError\u001b[0m: mat1 and mat2 shapes cannot be multiplied (3x2 and 3x2)"
          ]
        }
      ]
    },
    {
      "cell_type": "markdown",
      "source": [],
      "metadata": {
        "id": "mXgKMiCVCTtQ"
      }
    },
    {
      "cell_type": "code",
      "source": [
        "tensor1.shape, tensor2.shape"
      ],
      "metadata": {
        "id": "H2sYOFll0XRP",
        "colab": {
          "base_uri": "https://localhost:8080/"
        },
        "outputId": "fc1f62d1-2a1a-431a-b744-03a5ddfc8a27"
      },
      "execution_count": null,
      "outputs": [
        {
          "output_type": "execute_result",
          "data": {
            "text/plain": [
              "(torch.Size([3, 2]), torch.Size([3, 2]))"
            ]
          },
          "metadata": {},
          "execution_count": 9
        }
      ]
    },
    {
      "cell_type": "code",
      "source": [
        "tensor2.T"
      ],
      "metadata": {
        "id": "WKPFMvFu0XFy",
        "colab": {
          "base_uri": "https://localhost:8080/"
        },
        "outputId": "c5697a6b-e304-4427-dab8-7b1a997bf2d0"
      },
      "execution_count": null,
      "outputs": [
        {
          "output_type": "execute_result",
          "data": {
            "text/plain": [
              "tensor([[ 7,  8,  9],\n",
              "        [10, 11, 12]])"
            ]
          },
          "metadata": {},
          "execution_count": 10
        }
      ]
    },
    {
      "cell_type": "code",
      "source": [
        "torch.matmul(tensor1,tensor2.T).shape"
      ],
      "metadata": {
        "id": "PTGGryz30W5h",
        "colab": {
          "base_uri": "https://localhost:8080/"
        },
        "outputId": "32a868c0-8081-4af3-dd88-9f6cc33582e2"
      },
      "execution_count": null,
      "outputs": [
        {
          "output_type": "execute_result",
          "data": {
            "text/plain": [
              "torch.Size([3, 3])"
            ]
          },
          "metadata": {},
          "execution_count": 13
        }
      ]
    },
    {
      "cell_type": "code",
      "source": [
        "x=torch.arange(0,100,10)"
      ],
      "metadata": {
        "id": "fanOhswa0WmV"
      },
      "execution_count": null,
      "outputs": []
    },
    {
      "cell_type": "code",
      "source": [
        "torch.min(x)"
      ],
      "metadata": {
        "id": "nufGAnp40WT9",
        "colab": {
          "base_uri": "https://localhost:8080/"
        },
        "outputId": "890e4bdf-4e8e-41ad-d99f-092f52e28205"
      },
      "execution_count": null,
      "outputs": [
        {
          "output_type": "execute_result",
          "data": {
            "text/plain": [
              "tensor(0)"
            ]
          },
          "metadata": {},
          "execution_count": 15
        }
      ]
    },
    {
      "cell_type": "code",
      "source": [
        "x.max(),x.min()"
      ],
      "metadata": {
        "id": "fpyp7WAN0WA4",
        "colab": {
          "base_uri": "https://localhost:8080/"
        },
        "outputId": "89b23345-b9e6-464c-ef3c-2cf9b4df9e10"
      },
      "execution_count": null,
      "outputs": [
        {
          "output_type": "execute_result",
          "data": {
            "text/plain": [
              "(tensor(90), tensor(0))"
            ]
          },
          "metadata": {},
          "execution_count": 17
        }
      ]
    },
    {
      "cell_type": "code",
      "source": [
        "torch.mean(x.type(torch.float32))"
      ],
      "metadata": {
        "id": "vvmTh5zJ0VuB",
        "colab": {
          "base_uri": "https://localhost:8080/"
        },
        "outputId": "ea767f24-876e-4133-a9a8-7f185ac8301b"
      },
      "execution_count": null,
      "outputs": [
        {
          "output_type": "execute_result",
          "data": {
            "text/plain": [
              "tensor(45.)"
            ]
          },
          "metadata": {},
          "execution_count": 18
        }
      ]
    },
    {
      "cell_type": "code",
      "source": [
        "x.type(torch.float32).mean()"
      ],
      "metadata": {
        "id": "oSWKShRT0Vbz",
        "colab": {
          "base_uri": "https://localhost:8080/"
        },
        "outputId": "fa00ef39-e35f-4e77-f5b5-6c12bdf512a8"
      },
      "execution_count": null,
      "outputs": [
        {
          "output_type": "execute_result",
          "data": {
            "text/plain": [
              "tensor(45.)"
            ]
          },
          "metadata": {},
          "execution_count": 20
        }
      ]
    },
    {
      "cell_type": "code",
      "source": [
        "x.argmin(), x.argmax()"
      ],
      "metadata": {
        "id": "iS-WCac50VJP",
        "colab": {
          "base_uri": "https://localhost:8080/"
        },
        "outputId": "accd7708-21b8-42b5-e6c0-16f76cbe0b4c"
      },
      "execution_count": null,
      "outputs": [
        {
          "output_type": "execute_result",
          "data": {
            "text/plain": [
              "(tensor(0), tensor(9))"
            ]
          },
          "metadata": {},
          "execution_count": 22
        }
      ]
    },
    {
      "cell_type": "code",
      "source": [
        "import torch"
      ],
      "metadata": {
        "id": "XgmFT_Pd0U4q"
      },
      "execution_count": null,
      "outputs": []
    },
    {
      "cell_type": "code",
      "source": [
        "x= torch.arange(1.0,10.0)\n",
        "x,x.shape"
      ],
      "metadata": {
        "id": "LCqsGZtL0Unw",
        "colab": {
          "base_uri": "https://localhost:8080/"
        },
        "outputId": "8c29460c-45fc-4f61-f7c4-b50ff1bbf13a"
      },
      "execution_count": null,
      "outputs": [
        {
          "output_type": "execute_result",
          "data": {
            "text/plain": [
              "(tensor([1., 2., 3., 4., 5., 6., 7., 8., 9.]), torch.Size([9]))"
            ]
          },
          "metadata": {},
          "execution_count": 5
        }
      ]
    },
    {
      "cell_type": "code",
      "source": [
        "#add an extra dimension\n",
        "x_resh = x.reshape(1,9)\n",
        "x_resh, x_resh.shape\n"
      ],
      "metadata": {
        "id": "85w_c5HW0UXP",
        "colab": {
          "base_uri": "https://localhost:8080/"
        },
        "outputId": "31fb3853-cdb3-4e03-e5d1-ff03d0bf3c64"
      },
      "execution_count": null,
      "outputs": [
        {
          "output_type": "execute_result",
          "data": {
            "text/plain": [
              "(tensor([[1., 2., 3., 4., 5., 6., 7., 8., 9.]]), torch.Size([1, 9]))"
            ]
          },
          "metadata": {},
          "execution_count": 9
        }
      ]
    },
    {
      "cell_type": "code",
      "source": [
        "x.view(1,9)"
      ],
      "metadata": {
        "id": "BjXyK7mF0UIY"
      },
      "execution_count": null,
      "outputs": []
    },
    {
      "cell_type": "code",
      "source": [
        "x_resh.squeeze().shape"
      ],
      "metadata": {
        "id": "vOcn2r3x0T5s",
        "colab": {
          "base_uri": "https://localhost:8080/"
        },
        "outputId": "4f43c25c-0f99-4057-ac89-113309e5f732"
      },
      "execution_count": null,
      "outputs": [
        {
          "output_type": "execute_result",
          "data": {
            "text/plain": [
              "torch.Size([9])"
            ]
          },
          "metadata": {},
          "execution_count": 8
        }
      ]
    },
    {
      "cell_type": "code",
      "source": [
        "a = torch.rand(3,4,2)\n",
        "a, a.shape"
      ],
      "metadata": {
        "colab": {
          "base_uri": "https://localhost:8080/"
        },
        "id": "jBjy9oX-_7Jd",
        "outputId": "1c706380-42b1-43f8-fb41-58ad63339e59"
      },
      "execution_count": null,
      "outputs": [
        {
          "output_type": "execute_result",
          "data": {
            "text/plain": [
              "(tensor([[[0.8173, 0.6839],\n",
              "          [0.6588, 0.4451],\n",
              "          [0.2655, 0.3281],\n",
              "          [0.4217, 0.8825]],\n",
              " \n",
              "         [[0.6528, 0.6186],\n",
              "          [0.8871, 0.6827],\n",
              "          [0.8698, 0.9569],\n",
              "          [0.2691, 0.5860]],\n",
              " \n",
              "         [[0.5895, 0.9066],\n",
              "          [0.9911, 0.8915],\n",
              "          [0.0435, 0.1511],\n",
              "          [0.4587, 0.6363]]]),\n",
              " torch.Size([3, 4, 2]))"
            ]
          },
          "metadata": {},
          "execution_count": 11
        }
      ]
    },
    {
      "cell_type": "code",
      "source": [],
      "metadata": {
        "id": "ABFWrDsbBhK0"
      },
      "execution_count": null,
      "outputs": []
    },
    {
      "cell_type": "code",
      "source": [
        "torch.permute(a, (1,0,2)).shape"
      ],
      "metadata": {
        "colab": {
          "base_uri": "https://localhost:8080/"
        },
        "id": "xxCXCUkR_7FS",
        "outputId": "2f18df32-1b41-4cfe-e6da-f36e360428f2"
      },
      "execution_count": null,
      "outputs": [
        {
          "output_type": "execute_result",
          "data": {
            "text/plain": [
              "torch.Size([4, 3, 2])"
            ]
          },
          "metadata": {},
          "execution_count": 13
        }
      ]
    },
    {
      "cell_type": "code",
      "source": [
        "print( \"Previous dimension: {x_resh}\")\n"
      ],
      "metadata": {
        "id": "uF_8U2ff0TpA"
      },
      "execution_count": null,
      "outputs": []
    },
    {
      "cell_type": "code",
      "source": [
        "tensor = torch.rand(4,3,2,3)\n",
        "tensor, tensor.shape"
      ],
      "metadata": {
        "id": "OP_3_MfE0Tay",
        "colab": {
          "base_uri": "https://localhost:8080/"
        },
        "outputId": "2bb4ad3a-6dae-4f59-e96e-defeafcf7a23"
      },
      "execution_count": null,
      "outputs": [
        {
          "output_type": "execute_result",
          "data": {
            "text/plain": [
              "(tensor([[[[0.6459, 0.8222, 0.7340],\n",
              "           [0.5706, 0.9599, 0.0376]],\n",
              " \n",
              "          [[0.8262, 0.1816, 0.0182],\n",
              "           [0.0571, 0.7755, 0.0628]],\n",
              " \n",
              "          [[0.6937, 0.5745, 0.1940],\n",
              "           [0.1585, 0.8586, 0.6145]]],\n",
              " \n",
              " \n",
              "         [[[0.0576, 0.1647, 0.9693],\n",
              "           [0.9900, 0.6324, 0.0287]],\n",
              " \n",
              "          [[0.8323, 0.5017, 0.7945],\n",
              "           [0.6131, 0.6186, 0.9343]],\n",
              " \n",
              "          [[0.7460, 0.1978, 0.9573],\n",
              "           [0.7735, 0.1279, 0.2751]]],\n",
              " \n",
              " \n",
              "         [[[0.8427, 0.4856, 0.3723],\n",
              "           [0.7389, 0.5324, 0.3345]],\n",
              " \n",
              "          [[0.7018, 0.6031, 0.1851],\n",
              "           [0.1806, 0.8732, 0.6340]],\n",
              " \n",
              "          [[0.5269, 0.8659, 0.9396],\n",
              "           [0.9967, 0.7893, 0.0047]]],\n",
              " \n",
              " \n",
              "         [[[0.0848, 0.1295, 0.6897],\n",
              "           [0.7151, 0.6157, 0.9807]],\n",
              " \n",
              "          [[0.0433, 0.9653, 0.1653],\n",
              "           [0.0481, 0.8059, 0.6490]],\n",
              " \n",
              "          [[0.6622, 0.4234, 0.9087],\n",
              "           [0.5455, 0.2783, 0.1718]]]]),\n",
              " torch.Size([4, 3, 2, 3]))"
            ]
          },
          "metadata": {},
          "execution_count": 28
        }
      ]
    },
    {
      "cell_type": "code",
      "source": [
        "tensor[0][0]"
      ],
      "metadata": {
        "id": "FsgD-1uV0TOM",
        "colab": {
          "base_uri": "https://localhost:8080/"
        },
        "outputId": "c71e2d1e-f110-4d20-a3d3-27031141f911"
      },
      "execution_count": null,
      "outputs": [
        {
          "output_type": "execute_result",
          "data": {
            "text/plain": [
              "tensor([[0.6459, 0.8222, 0.7340],\n",
              "        [0.5706, 0.9599, 0.0376]])"
            ]
          },
          "metadata": {},
          "execution_count": 30
        }
      ]
    },
    {
      "cell_type": "code",
      "source": [
        "a = torch.arange(1,10).reshape(1,3,3)\n",
        "a"
      ],
      "metadata": {
        "id": "uC-T7uN30TA_",
        "colab": {
          "base_uri": "https://localhost:8080/"
        },
        "outputId": "04be7058-dfa9-4650-d8d3-5e0785a22bff"
      },
      "execution_count": null,
      "outputs": [
        {
          "output_type": "execute_result",
          "data": {
            "text/plain": [
              "tensor([[[1, 2, 3],\n",
              "         [4, 5, 6],\n",
              "         [7, 8, 9]]])"
            ]
          },
          "metadata": {},
          "execution_count": 31
        }
      ]
    },
    {
      "cell_type": "code",
      "source": [
        "a[0][2][2]"
      ],
      "metadata": {
        "id": "RYAGUF6S0S0H",
        "colab": {
          "base_uri": "https://localhost:8080/"
        },
        "outputId": "5145704b-fd67-4515-f685-92e3d9e57272"
      },
      "execution_count": null,
      "outputs": [
        {
          "output_type": "execute_result",
          "data": {
            "text/plain": [
              "tensor(9)"
            ]
          },
          "metadata": {},
          "execution_count": 32
        }
      ]
    },
    {
      "cell_type": "code",
      "source": [
        "a[:,:,2]"
      ],
      "metadata": {
        "id": "12NQ4Nur0Sl0",
        "colab": {
          "base_uri": "https://localhost:8080/"
        },
        "outputId": "0fafea00-2ab6-422d-c49c-ca66791a2b22"
      },
      "execution_count": null,
      "outputs": [
        {
          "output_type": "execute_result",
          "data": {
            "text/plain": [
              "tensor([[3, 6, 9]])"
            ]
          },
          "metadata": {},
          "execution_count": 35
        }
      ]
    },
    {
      "cell_type": "code",
      "source": [],
      "metadata": {
        "id": "XUWdUzDx0SZM"
      },
      "execution_count": null,
      "outputs": []
    },
    {
      "cell_type": "markdown",
      "source": [
        "# **Exercises**"
      ],
      "metadata": {
        "id": "i-iQ_RiKXP-a"
      }
    },
    {
      "cell_type": "code",
      "source": [
        "import torch\n",
        "\n"
      ],
      "metadata": {
        "id": "l9si0LpF0R80"
      },
      "execution_count": null,
      "outputs": []
    },
    {
      "cell_type": "code",
      "source": [
        "rand_tensor=torch.rand(7,7)\n",
        "rand_tensor.shape"
      ],
      "metadata": {
        "colab": {
          "base_uri": "https://localhost:8080/"
        },
        "id": "x0NqAnl7YEb6",
        "outputId": "e33a2fcd-e6eb-4268-fc4e-f1b9c9227c6d"
      },
      "execution_count": null,
      "outputs": [
        {
          "output_type": "execute_result",
          "data": {
            "text/plain": [
              "torch.Size([7, 7])"
            ]
          },
          "metadata": {},
          "execution_count": 2
        }
      ]
    },
    {
      "cell_type": "code",
      "source": [
        "tensor2 = torch.rand(1,7)\n",
        "tensor2.shape"
      ],
      "metadata": {
        "colab": {
          "base_uri": "https://localhost:8080/"
        },
        "id": "LqubdjuMYjoQ",
        "outputId": "f9c47ae5-ee54-4c72-b0cd-0863812817a0"
      },
      "execution_count": null,
      "outputs": [
        {
          "output_type": "execute_result",
          "data": {
            "text/plain": [
              "torch.Size([1, 7])"
            ]
          },
          "metadata": {},
          "execution_count": 3
        }
      ]
    },
    {
      "cell_type": "code",
      "source": [
        "inverse_2 = tensor2.T\n",
        "\n",
        "matrix=torch.matmul(rand_tensor,inverse_2)\n",
        "\n",
        "matrix"
      ],
      "metadata": {
        "colab": {
          "base_uri": "https://localhost:8080/"
        },
        "id": "plPRDkW_Yjhj",
        "outputId": "863bf2d2-f114-4eda-f9a3-901b4dac1902"
      },
      "execution_count": null,
      "outputs": [
        {
          "output_type": "execute_result",
          "data": {
            "text/plain": [
              "tensor([[0.6971],\n",
              "        [0.9420],\n",
              "        [1.0426],\n",
              "        [2.0437],\n",
              "        [1.6560],\n",
              "        [1.0629],\n",
              "        [1.4949]])"
            ]
          },
          "metadata": {},
          "execution_count": 4
        }
      ]
    },
    {
      "cell_type": "code",
      "source": [
        "RANDOM_SEED = 0\n",
        "torch.manual_seed(RANDOM_SEED)\n",
        "random1 = torch.rand(7,7)\n",
        "random2 = torch.rand(1,7)\n",
        "random2_inv = random2.T\n",
        "matrix2 = torch.matmul(random1, random2_inv)\n",
        "matrix"
      ],
      "metadata": {
        "colab": {
          "base_uri": "https://localhost:8080/"
        },
        "id": "juRXJnUJYja3",
        "outputId": "652520ce-09a7-4a18-e3b7-e00bbf0e0775"
      },
      "execution_count": null,
      "outputs": [
        {
          "output_type": "execute_result",
          "data": {
            "text/plain": [
              "tensor([[0.6971],\n",
              "        [0.9420],\n",
              "        [1.0426],\n",
              "        [2.0437],\n",
              "        [1.6560],\n",
              "        [1.0629],\n",
              "        [1.4949]])"
            ]
          },
          "metadata": {},
          "execution_count": 5
        }
      ]
    },
    {
      "cell_type": "code",
      "source": [
        "torch.max(matrix), torch.min(matrix)"
      ],
      "metadata": {
        "colab": {
          "base_uri": "https://localhost:8080/"
        },
        "id": "sq7zVxNOgyLd",
        "outputId": "3471864f-8663-44f4-9448-c3f10a08862d"
      },
      "execution_count": null,
      "outputs": [
        {
          "output_type": "execute_result",
          "data": {
            "text/plain": [
              "(tensor(2.3630), tensor(0.9162))"
            ]
          },
          "metadata": {},
          "execution_count": 16
        }
      ]
    },
    {
      "cell_type": "code",
      "source": [
        "torch.argmin(matrix), torch.argmax(matrix)"
      ],
      "metadata": {
        "colab": {
          "base_uri": "https://localhost:8080/"
        },
        "id": "uf85hZUhgx8R",
        "outputId": "e7e73007-fbb0-4e44-d278-9312f590c0be"
      },
      "execution_count": null,
      "outputs": [
        {
          "output_type": "execute_result",
          "data": {
            "text/plain": [
              "(tensor(3), tensor(1))"
            ]
          },
          "metadata": {},
          "execution_count": 17
        }
      ]
    },
    {
      "cell_type": "code",
      "source": [
        "a=torch.rand(1,1,1,10)\n",
        "a_squeezed=a.squeeze()\n",
        "a_squeezed, a_squeezed.shape"
      ],
      "metadata": {
        "colab": {
          "base_uri": "https://localhost:8080/"
        },
        "id": "Xx7_6_VSgxqq",
        "outputId": "2acb15a8-bb1c-4482-b7b7-325924d00e0c"
      },
      "execution_count": null,
      "outputs": [
        {
          "output_type": "execute_result",
          "data": {
            "text/plain": [
              "(tensor([0.5995, 0.0652, 0.5460, 0.1872, 0.0340, 0.9442, 0.8802, 0.0012, 0.5936,\n",
              "         0.4158]),\n",
              " torch.Size([10]))"
            ]
          },
          "metadata": {},
          "execution_count": 20
        }
      ]
    },
    {
      "cell_type": "code",
      "source": [],
      "metadata": {
        "id": "2jOy-7Mggxg_"
      },
      "execution_count": null,
      "outputs": []
    },
    {
      "cell_type": "code",
      "source": [],
      "metadata": {
        "id": "28oEeH3SgxLq"
      },
      "execution_count": null,
      "outputs": []
    }
  ]
}